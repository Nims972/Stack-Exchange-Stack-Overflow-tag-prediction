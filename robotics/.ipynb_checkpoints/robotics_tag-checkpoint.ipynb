{
 "cells": [
  {
   "cell_type": "code",
   "execution_count": 1,
   "metadata": {
    "_uuid": "6d9d951d955e1c17f17b6d8ec9125e02e9346589"
   },
   "outputs": [],
   "source": [
    "import nltk\n",
    "#nltk.download('stopwords')\n",
    "from ast import literal_eval\n",
    "import pandas as pd\n",
    "import numpy as np\n",
    "from nltk.corpus import stopwords"
   ]
  },
  {
   "cell_type": "code",
   "execution_count": 2,
   "metadata": {
    "_uuid": "1d8f47b1fcb8211c364a18041ddb5c0858dd3722"
   },
   "outputs": [],
   "source": [
    "def read_data(filename):\n",
    "    data = pd.read_csv(filename, sep='\\t')\n",
    "    data['tags'] = data['tags'].apply(literal_eval)\n",
    "    return data"
   ]
  },
  {
   "cell_type": "code",
   "execution_count": 3,
   "metadata": {
    "_uuid": "9f2df6ee94f8220481ef6dc333afd5f33bd67a24"
   },
   "outputs": [
    {
     "data": {
      "text/html": [
       "<div>\n",
       "<style scoped>\n",
       "    .dataframe tbody tr th:only-of-type {\n",
       "        vertical-align: middle;\n",
       "    }\n",
       "\n",
       "    .dataframe tbody tr th {\n",
       "        vertical-align: top;\n",
       "    }\n",
       "\n",
       "    .dataframe thead th {\n",
       "        text-align: right;\n",
       "    }\n",
       "</style>\n",
       "<table border=\"1\" class=\"dataframe\">\n",
       "  <thead>\n",
       "    <tr style=\"text-align: right;\">\n",
       "      <th></th>\n",
       "      <th>id</th>\n",
       "      <th>title</th>\n",
       "      <th>content</th>\n",
       "      <th>tags</th>\n",
       "    </tr>\n",
       "  </thead>\n",
       "  <tbody>\n",
       "    <tr>\n",
       "      <th>0</th>\n",
       "      <td>1</td>\n",
       "      <td>What is the right approach to write the spin c...</td>\n",
       "      <td>&lt;p&gt;Imagine programming a 3 wheel soccer robot....</td>\n",
       "      <td>soccer control</td>\n",
       "    </tr>\n",
       "    <tr>\n",
       "      <th>1</th>\n",
       "      <td>2</td>\n",
       "      <td>How can I modify a low cost hobby servo to run...</td>\n",
       "      <td>&lt;p&gt;I've got some hobby servos (&lt;a href=\"http:/...</td>\n",
       "      <td>control rcservo</td>\n",
       "    </tr>\n",
       "    <tr>\n",
       "      <th>2</th>\n",
       "      <td>3</td>\n",
       "      <td>What useful gaits exist for a six legged robot...</td>\n",
       "      <td>&lt;p&gt;&lt;a href=\"http://www.oricomtech.com/projects...</td>\n",
       "      <td>gait walk</td>\n",
       "    </tr>\n",
       "    <tr>\n",
       "      <th>3</th>\n",
       "      <td>4</td>\n",
       "      <td>Good Microcontrollers/SOCs for a Robotics Project</td>\n",
       "      <td>&lt;p&gt;I am looking for a starting point for my pr...</td>\n",
       "      <td>microcontroller arduino raspberry-pi</td>\n",
       "    </tr>\n",
       "    <tr>\n",
       "      <th>4</th>\n",
       "      <td>5</td>\n",
       "      <td>Nearest-neighbor data structure for non-Euclid...</td>\n",
       "      <td>&lt;p&gt;I'm trying to implement a nearest-neighbor ...</td>\n",
       "      <td>motion-planning rrt</td>\n",
       "    </tr>\n",
       "    <tr>\n",
       "      <th>5</th>\n",
       "      <td>6</td>\n",
       "      <td>What good robotics software platforms / operat...</td>\n",
       "      <td>&lt;p&gt;My company will soon be starting a brand ne...</td>\n",
       "      <td>software platform</td>\n",
       "    </tr>\n",
       "    <tr>\n",
       "      <th>6</th>\n",
       "      <td>11</td>\n",
       "      <td>What software do you use to design your PCB in...</td>\n",
       "      <td>&lt;p&gt;What is the best software (despite the pric...</td>\n",
       "      <td>software circuit</td>\n",
       "    </tr>\n",
       "    <tr>\n",
       "      <th>7</th>\n",
       "      <td>18</td>\n",
       "      <td>What are good methods for tuning the process n...</td>\n",
       "      <td>&lt;p&gt;Most often tuning the Kalman filter noise m...</td>\n",
       "      <td>odometry localization kalman-filter</td>\n",
       "    </tr>\n",
       "    <tr>\n",
       "      <th>8</th>\n",
       "      <td>19</td>\n",
       "      <td>Keyboard control map for scalar based movement?</td>\n",
       "      <td>&lt;p&gt;I'm working with a Wild Thumper 6 wheel cha...</td>\n",
       "      <td>untagged</td>\n",
       "    </tr>\n",
       "    <tr>\n",
       "      <th>9</th>\n",
       "      <td>20</td>\n",
       "      <td>Ideas for shooting the ball in a soccer robot</td>\n",
       "      <td>&lt;p&gt;What is the best option to use for the shoo...</td>\n",
       "      <td>soccer mechanism</td>\n",
       "    </tr>\n",
       "    <tr>\n",
       "      <th>10</th>\n",
       "      <td>23</td>\n",
       "      <td>F/OSS Optical Object Avoidance</td>\n",
       "      <td>&lt;p&gt;I am beginning work on a larger scale, 250-...</td>\n",
       "      <td>computer-vision wheeled-robot</td>\n",
       "    </tr>\n",
       "    <tr>\n",
       "      <th>11</th>\n",
       "      <td>25</td>\n",
       "      <td>How to choose the right propeller/motor combin...</td>\n",
       "      <td>&lt;p&gt;There are many sites which explain briefly ...</td>\n",
       "      <td>quadcopter</td>\n",
       "    </tr>\n",
       "    <tr>\n",
       "      <th>12</th>\n",
       "      <td>26</td>\n",
       "      <td>Cheap web to buy robotic pieces from</td>\n",
       "      <td>&lt;p&gt;I love computer programming, and if I can i...</td>\n",
       "      <td>servos</td>\n",
       "    </tr>\n",
       "    <tr>\n",
       "      <th>13</th>\n",
       "      <td>37</td>\n",
       "      <td>Mobile robot localization in a known map</td>\n",
       "      <td>&lt;p&gt;I want to localize a mobile robot equipped ...</td>\n",
       "      <td>localization mobile-robot</td>\n",
       "    </tr>\n",
       "    <tr>\n",
       "      <th>14</th>\n",
       "      <td>39</td>\n",
       "      <td>I'd like to use gesture based input for my rob...</td>\n",
       "      <td>&lt;p&gt;As in the title, I'd like to implement gest...</td>\n",
       "      <td>kinect input</td>\n",
       "    </tr>\n",
       "    <tr>\n",
       "      <th>15</th>\n",
       "      <td>42</td>\n",
       "      <td>What tyre tread would be best suited to an off...</td>\n",
       "      <td>&lt;p&gt;I'm looking to potentially build an autonom...</td>\n",
       "      <td>wheel</td>\n",
       "    </tr>\n",
       "    <tr>\n",
       "      <th>16</th>\n",
       "      <td>43</td>\n",
       "      <td>What algorithm should I use for balancing a tw...</td>\n",
       "      <td>&lt;p&gt;Is there a good, popular and reliable algor...</td>\n",
       "      <td>control gyroscope balance two-wheeled</td>\n",
       "    </tr>\n",
       "    <tr>\n",
       "      <th>17</th>\n",
       "      <td>44</td>\n",
       "      <td>Choosing the right dimensions for an underwate...</td>\n",
       "      <td>&lt;p&gt;I'm looking to potentially build an &lt;a href...</td>\n",
       "      <td>design underwater auv</td>\n",
       "    </tr>\n",
       "    <tr>\n",
       "      <th>18</th>\n",
       "      <td>46</td>\n",
       "      <td>What's the most effective type of rechargeable...</td>\n",
       "      <td>&lt;p&gt;I'm looking to build an underwater glider r...</td>\n",
       "      <td>underwater battery auv</td>\n",
       "    </tr>\n",
       "    <tr>\n",
       "      <th>19</th>\n",
       "      <td>48</td>\n",
       "      <td>How can I best protect sensitive components ag...</td>\n",
       "      <td>&lt;p&gt;It's common for components on some types of...</td>\n",
       "      <td>electronics protection</td>\n",
       "    </tr>\n",
       "    <tr>\n",
       "      <th>20</th>\n",
       "      <td>49</td>\n",
       "      <td>What's the most accurate way to obtain a locat...</td>\n",
       "      <td>&lt;p&gt;Obviously GPS is the most obvious and acces...</td>\n",
       "      <td>localization gps</td>\n",
       "    </tr>\n",
       "    <tr>\n",
       "      <th>21</th>\n",
       "      <td>53</td>\n",
       "      <td>What algorithm can I use for constructing a ma...</td>\n",
       "      <td>&lt;p&gt;Ultrasound sensors are incredibly cheap the...</td>\n",
       "      <td>slam localization gps mapping acoustic-rangefi...</td>\n",
       "    </tr>\n",
       "    <tr>\n",
       "      <th>22</th>\n",
       "      <td>55</td>\n",
       "      <td>Adding external heat sinking to a Dynamixel RX...</td>\n",
       "      <td>&lt;p&gt;Hobby servos are generally not sufficient f...</td>\n",
       "      <td>servos heat-management cooling</td>\n",
       "    </tr>\n",
       "    <tr>\n",
       "      <th>23</th>\n",
       "      <td>57</td>\n",
       "      <td>How can I detect if a DC motor on a robot is s...</td>\n",
       "      <td>&lt;p&gt;What characteristics can I look for which c...</td>\n",
       "      <td>sensors failure motor</td>\n",
       "    </tr>\n",
       "    <tr>\n",
       "      <th>24</th>\n",
       "      <td>60</td>\n",
       "      <td>Is it possible to both move and stabilize a tw...</td>\n",
       "      <td>&lt;p&gt;With two wheeled robot &lt;a href=\"http://www....</td>\n",
       "      <td>two-wheeled stability</td>\n",
       "    </tr>\n",
       "    <tr>\n",
       "      <th>25</th>\n",
       "      <td>65</td>\n",
       "      <td>Calculating the efficiency of Mecanum wheels</td>\n",
       "      <td>&lt;p&gt;I'm part of a &lt;a href=\"http://usfirst.org\"&gt;...</td>\n",
       "      <td>mobile-robot design movement wheel first-robotics</td>\n",
       "    </tr>\n",
       "    <tr>\n",
       "      <th>26</th>\n",
       "      <td>75</td>\n",
       "      <td>Using an Arduino to control an ON / OFF connec...</td>\n",
       "      <td>&lt;p&gt;I've got this driver: &lt;a href=\"http://www.p...</td>\n",
       "      <td>arduino logic-control stepper-motor stepper-dr...</td>\n",
       "    </tr>\n",
       "    <tr>\n",
       "      <th>27</th>\n",
       "      <td>85</td>\n",
       "      <td>Shape Memory Alloy wire for robot gripper arm ...</td>\n",
       "      <td>&lt;p&gt;For a robotic gripper arm we are designing ...</td>\n",
       "      <td>mobile-robot</td>\n",
       "    </tr>\n",
       "    <tr>\n",
       "      <th>28</th>\n",
       "      <td>88</td>\n",
       "      <td>Mechanical design for motorized spherical cast...</td>\n",
       "      <td>&lt;p&gt;Design goal is to have a mobile robot that ...</td>\n",
       "      <td>servos mobile-robot stepper-motor</td>\n",
       "    </tr>\n",
       "    <tr>\n",
       "      <th>29</th>\n",
       "      <td>91</td>\n",
       "      <td>What determines the amount of noise an actuato...</td>\n",
       "      <td>&lt;p&gt;&lt;a href=\"http://www.youtube.com/watch?v=ZHJ...</td>\n",
       "      <td>motor actuator noise</td>\n",
       "    </tr>\n",
       "    <tr>\n",
       "      <th>...</th>\n",
       "      <td>...</td>\n",
       "      <td>...</td>\n",
       "      <td>...</td>\n",
       "      <td>...</td>\n",
       "    </tr>\n",
       "    <tr>\n",
       "      <th>2741</th>\n",
       "      <td>10508</td>\n",
       "      <td>Building an RC Airbus A340</td>\n",
       "      <td>&lt;p&gt;I am planning to build a scale version of a...</td>\n",
       "      <td>servos</td>\n",
       "    </tr>\n",
       "    <tr>\n",
       "      <th>2742</th>\n",
       "      <td>10511</td>\n",
       "      <td>Accelerometer, gyro, and magnetometer sensor f...</td>\n",
       "      <td>&lt;p&gt;As a hardware engineer, I have studied quit...</td>\n",
       "      <td>control kalman-filter imu calibration precise-...</td>\n",
       "    </tr>\n",
       "    <tr>\n",
       "      <th>2743</th>\n",
       "      <td>10514</td>\n",
       "      <td>Scale factor of a 3d robot model relative to t...</td>\n",
       "      <td>&lt;p&gt;I have some measurements of a real life rob...</td>\n",
       "      <td>3d-model</td>\n",
       "    </tr>\n",
       "    <tr>\n",
       "      <th>2744</th>\n",
       "      <td>10515</td>\n",
       "      <td>Basic Components For Having a 'Follow Me' mode...</td>\n",
       "      <td>&lt;p&gt;I want to know what all essential component...</td>\n",
       "      <td>localization</td>\n",
       "    </tr>\n",
       "    <tr>\n",
       "      <th>2745</th>\n",
       "      <td>10516</td>\n",
       "      <td>can't find ros package in kinetic driver-base</td>\n",
       "      <td>&lt;p&gt;I can't find the package, in the ros site ,...</td>\n",
       "      <td>ros</td>\n",
       "    </tr>\n",
       "    <tr>\n",
       "      <th>2746</th>\n",
       "      <td>10517</td>\n",
       "      <td>Which kind of motors and how powerfull should ...</td>\n",
       "      <td>&lt;p&gt;I am building a robotic arm with these spec...</td>\n",
       "      <td>motor robotic-arm stepper-motor servos torque</td>\n",
       "    </tr>\n",
       "    <tr>\n",
       "      <th>2747</th>\n",
       "      <td>10519</td>\n",
       "      <td>Math for dynamic gait</td>\n",
       "      <td>&lt;p&gt;I'm researching dynamic gaits for bipedal r...</td>\n",
       "      <td>walking-robot</td>\n",
       "    </tr>\n",
       "    <tr>\n",
       "      <th>2748</th>\n",
       "      <td>10520</td>\n",
       "      <td>Once matching features are computed between a ...</td>\n",
       "      <td>&lt;p&gt;I am currently working on a SLAM-like appli...</td>\n",
       "      <td>slam computer-vision stereo-vision</td>\n",
       "    </tr>\n",
       "    <tr>\n",
       "      <th>2749</th>\n",
       "      <td>10521</td>\n",
       "      <td>Help finding robot tracks</td>\n",
       "      <td>&lt;p&gt;I have a Robot with tracks. One of the trac...</td>\n",
       "      <td>mobile-robot tracks</td>\n",
       "    </tr>\n",
       "    <tr>\n",
       "      <th>2750</th>\n",
       "      <td>10523</td>\n",
       "      <td>Determining position from a 2D map and LIDAR</td>\n",
       "      <td>&lt;p&gt;We need to determine the 2D position of my ...</td>\n",
       "      <td>localization lidar precise-positioning</td>\n",
       "    </tr>\n",
       "    <tr>\n",
       "      <th>2751</th>\n",
       "      <td>10525</td>\n",
       "      <td>Shield IMU from magnetic interferences</td>\n",
       "      <td>&lt;p&gt;I experienced some drifting when coming nea...</td>\n",
       "      <td>sensors imu rotation</td>\n",
       "    </tr>\n",
       "    <tr>\n",
       "      <th>2752</th>\n",
       "      <td>10527</td>\n",
       "      <td>Is it a bad-design decision to implement high ...</td>\n",
       "      <td>&lt;p&gt;I'm currently designing an autonomous robot...</td>\n",
       "      <td>computer-vision automation</td>\n",
       "    </tr>\n",
       "    <tr>\n",
       "      <th>2753</th>\n",
       "      <td>10533</td>\n",
       "      <td>How to make a simple Arduino Insect Robot?</td>\n",
       "      <td>&lt;p&gt;I want to make a simple Arduino based progr...</td>\n",
       "      <td>arduino</td>\n",
       "    </tr>\n",
       "    <tr>\n",
       "      <th>2754</th>\n",
       "      <td>10536</td>\n",
       "      <td>What is the difference between CC3D Revolution...</td>\n",
       "      <td>&lt;p&gt;I recently came across this doubt... As the...</td>\n",
       "      <td>quadcopter microcontroller</td>\n",
       "    </tr>\n",
       "    <tr>\n",
       "      <th>2755</th>\n",
       "      <td>10537</td>\n",
       "      <td>LIDAR Points as Landmarks</td>\n",
       "      <td>&lt;p&gt;I am currently trying to implement a GraphS...</td>\n",
       "      <td>localization slam lidar</td>\n",
       "    </tr>\n",
       "    <tr>\n",
       "      <th>2756</th>\n",
       "      <td>10544</td>\n",
       "      <td>Programmable Wheeled Vehicle</td>\n",
       "      <td>&lt;p&gt;Ok, this may be a simple question, but here...</td>\n",
       "      <td>mobile-robot</td>\n",
       "    </tr>\n",
       "    <tr>\n",
       "      <th>2757</th>\n",
       "      <td>10546</td>\n",
       "      <td>Is it possible to implement a robot that moves...</td>\n",
       "      <td>&lt;p&gt;I'd like to build a robot that can move to ...</td>\n",
       "      <td>wheeled-robot</td>\n",
       "    </tr>\n",
       "    <tr>\n",
       "      <th>2758</th>\n",
       "      <td>10547</td>\n",
       "      <td>How to get live audio from robot?</td>\n",
       "      <td>&lt;p&gt;I am building a robot and I want to be able...</td>\n",
       "      <td>real-time digital-audio</td>\n",
       "    </tr>\n",
       "    <tr>\n",
       "      <th>2759</th>\n",
       "      <td>10549</td>\n",
       "      <td>Power solution for Raspberry Pi robot</td>\n",
       "      <td>&lt;p&gt;I am building a Pi car with 4 gear motors (...</td>\n",
       "      <td>motor raspberry-pi power</td>\n",
       "    </tr>\n",
       "    <tr>\n",
       "      <th>2760</th>\n",
       "      <td>10554</td>\n",
       "      <td>What types of motor should I use for a particu...</td>\n",
       "      <td>&lt;p&gt;I want to create an amateur wire looping ma...</td>\n",
       "      <td>motor</td>\n",
       "    </tr>\n",
       "    <tr>\n",
       "      <th>2761</th>\n",
       "      <td>10555</td>\n",
       "      <td>3 Axis Gimbal Stabilization System can replace...</td>\n",
       "      <td>&lt;p&gt;i have \"TAROT ZYX-GS 3-Axis Gimbal Stabiliz...</td>\n",
       "      <td>quadcopter sensors accelerometer</td>\n",
       "    </tr>\n",
       "    <tr>\n",
       "      <th>2762</th>\n",
       "      <td>10556</td>\n",
       "      <td>Quadrature encoder signal from dc motor is ver...</td>\n",
       "      <td>&lt;p&gt;I'm starting out with robotics, got my firs...</td>\n",
       "      <td>motor quadrature-encoder</td>\n",
       "    </tr>\n",
       "    <tr>\n",
       "      <th>2763</th>\n",
       "      <td>10561</td>\n",
       "      <td>Can I use a 3D gimbal system as a simplistic q...</td>\n",
       "      <td>&lt;p&gt;i have 3d gimbal system and i want to use t...</td>\n",
       "      <td>quadcopter accelerometer gyroscope</td>\n",
       "    </tr>\n",
       "    <tr>\n",
       "      <th>2764</th>\n",
       "      <td>10562</td>\n",
       "      <td>What is the torque transmission efficiency usi...</td>\n",
       "      <td>&lt;p&gt;For this robot the gear attached to the mot...</td>\n",
       "      <td>mobile-robot torque gearing</td>\n",
       "    </tr>\n",
       "    <tr>\n",
       "      <th>2765</th>\n",
       "      <td>10567</td>\n",
       "      <td>Is there any C++ library I could use to progra...</td>\n",
       "      <td>&lt;p&gt;I came across robotics library (RL), but qu...</td>\n",
       "      <td>inverse-kinematics c++ forward-kinematics</td>\n",
       "    </tr>\n",
       "    <tr>\n",
       "      <th>2766</th>\n",
       "      <td>10568</td>\n",
       "      <td>What types of actuators do these industrial bo...</td>\n",
       "      <td>&lt;p&gt;I have a particular example robot that inte...</td>\n",
       "      <td>motor robotic-arm actuator torque</td>\n",
       "    </tr>\n",
       "    <tr>\n",
       "      <th>2767</th>\n",
       "      <td>10573</td>\n",
       "      <td>Technique to increase POV resolution</td>\n",
       "      <td>&lt;p&gt;I have thought of a technique to increase t...</td>\n",
       "      <td>microcontroller electronics</td>\n",
       "    </tr>\n",
       "    <tr>\n",
       "      <th>2768</th>\n",
       "      <td>10580</td>\n",
       "      <td>How can I upload sketches to an Arduino over a...</td>\n",
       "      <td>&lt;p&gt;I am doing robotics project on Raspberry pi...</td>\n",
       "      <td>arduino raspberry-pi embedded-systems first-ro...</td>\n",
       "    </tr>\n",
       "    <tr>\n",
       "      <th>2769</th>\n",
       "      <td>10581</td>\n",
       "      <td>EKF SLAM 2d laser scanned datasets usage</td>\n",
       "      <td>&lt;p&gt;How to understand the 2d laser scanner scan...</td>\n",
       "      <td>slam ekf first-robotics</td>\n",
       "    </tr>\n",
       "    <tr>\n",
       "      <th>2770</th>\n",
       "      <td>10584</td>\n",
       "      <td>Communication in SWARM robotics</td>\n",
       "      <td>&lt;p&gt;Hey so I am trying to research into SWARM r...</td>\n",
       "      <td>wireless</td>\n",
       "    </tr>\n",
       "  </tbody>\n",
       "</table>\n",
       "<p>2771 rows × 4 columns</p>\n",
       "</div>"
      ],
      "text/plain": [
       "         id                                              title  \\\n",
       "0         1  What is the right approach to write the spin c...   \n",
       "1         2  How can I modify a low cost hobby servo to run...   \n",
       "2         3  What useful gaits exist for a six legged robot...   \n",
       "3         4  Good Microcontrollers/SOCs for a Robotics Project   \n",
       "4         5  Nearest-neighbor data structure for non-Euclid...   \n",
       "5         6  What good robotics software platforms / operat...   \n",
       "6        11  What software do you use to design your PCB in...   \n",
       "7        18  What are good methods for tuning the process n...   \n",
       "8        19    Keyboard control map for scalar based movement?   \n",
       "9        20      Ideas for shooting the ball in a soccer robot   \n",
       "10       23                     F/OSS Optical Object Avoidance   \n",
       "11       25  How to choose the right propeller/motor combin...   \n",
       "12       26               Cheap web to buy robotic pieces from   \n",
       "13       37           Mobile robot localization in a known map   \n",
       "14       39  I'd like to use gesture based input for my rob...   \n",
       "15       42  What tyre tread would be best suited to an off...   \n",
       "16       43  What algorithm should I use for balancing a tw...   \n",
       "17       44  Choosing the right dimensions for an underwate...   \n",
       "18       46  What's the most effective type of rechargeable...   \n",
       "19       48  How can I best protect sensitive components ag...   \n",
       "20       49  What's the most accurate way to obtain a locat...   \n",
       "21       53  What algorithm can I use for constructing a ma...   \n",
       "22       55  Adding external heat sinking to a Dynamixel RX...   \n",
       "23       57  How can I detect if a DC motor on a robot is s...   \n",
       "24       60  Is it possible to both move and stabilize a tw...   \n",
       "25       65       Calculating the efficiency of Mecanum wheels   \n",
       "26       75  Using an Arduino to control an ON / OFF connec...   \n",
       "27       85  Shape Memory Alloy wire for robot gripper arm ...   \n",
       "28       88  Mechanical design for motorized spherical cast...   \n",
       "29       91  What determines the amount of noise an actuato...   \n",
       "...     ...                                                ...   \n",
       "2741  10508                         Building an RC Airbus A340   \n",
       "2742  10511  Accelerometer, gyro, and magnetometer sensor f...   \n",
       "2743  10514  Scale factor of a 3d robot model relative to t...   \n",
       "2744  10515  Basic Components For Having a 'Follow Me' mode...   \n",
       "2745  10516      can't find ros package in kinetic driver-base   \n",
       "2746  10517  Which kind of motors and how powerfull should ...   \n",
       "2747  10519                              Math for dynamic gait   \n",
       "2748  10520  Once matching features are computed between a ...   \n",
       "2749  10521                          Help finding robot tracks   \n",
       "2750  10523       Determining position from a 2D map and LIDAR   \n",
       "2751  10525             Shield IMU from magnetic interferences   \n",
       "2752  10527  Is it a bad-design decision to implement high ...   \n",
       "2753  10533         How to make a simple Arduino Insect Robot?   \n",
       "2754  10536  What is the difference between CC3D Revolution...   \n",
       "2755  10537                          LIDAR Points as Landmarks   \n",
       "2756  10544                       Programmable Wheeled Vehicle   \n",
       "2757  10546  Is it possible to implement a robot that moves...   \n",
       "2758  10547                  How to get live audio from robot?   \n",
       "2759  10549              Power solution for Raspberry Pi robot   \n",
       "2760  10554  What types of motor should I use for a particu...   \n",
       "2761  10555  3 Axis Gimbal Stabilization System can replace...   \n",
       "2762  10556  Quadrature encoder signal from dc motor is ver...   \n",
       "2763  10561  Can I use a 3D gimbal system as a simplistic q...   \n",
       "2764  10562  What is the torque transmission efficiency usi...   \n",
       "2765  10567  Is there any C++ library I could use to progra...   \n",
       "2766  10568  What types of actuators do these industrial bo...   \n",
       "2767  10573               Technique to increase POV resolution   \n",
       "2768  10580  How can I upload sketches to an Arduino over a...   \n",
       "2769  10581           EKF SLAM 2d laser scanned datasets usage   \n",
       "2770  10584                    Communication in SWARM robotics   \n",
       "\n",
       "                                                content  \\\n",
       "0     <p>Imagine programming a 3 wheel soccer robot....   \n",
       "1     <p>I've got some hobby servos (<a href=\"http:/...   \n",
       "2     <p><a href=\"http://www.oricomtech.com/projects...   \n",
       "3     <p>I am looking for a starting point for my pr...   \n",
       "4     <p>I'm trying to implement a nearest-neighbor ...   \n",
       "5     <p>My company will soon be starting a brand ne...   \n",
       "6     <p>What is the best software (despite the pric...   \n",
       "7     <p>Most often tuning the Kalman filter noise m...   \n",
       "8     <p>I'm working with a Wild Thumper 6 wheel cha...   \n",
       "9     <p>What is the best option to use for the shoo...   \n",
       "10    <p>I am beginning work on a larger scale, 250-...   \n",
       "11    <p>There are many sites which explain briefly ...   \n",
       "12    <p>I love computer programming, and if I can i...   \n",
       "13    <p>I want to localize a mobile robot equipped ...   \n",
       "14    <p>As in the title, I'd like to implement gest...   \n",
       "15    <p>I'm looking to potentially build an autonom...   \n",
       "16    <p>Is there a good, popular and reliable algor...   \n",
       "17    <p>I'm looking to potentially build an <a href...   \n",
       "18    <p>I'm looking to build an underwater glider r...   \n",
       "19    <p>It's common for components on some types of...   \n",
       "20    <p>Obviously GPS is the most obvious and acces...   \n",
       "21    <p>Ultrasound sensors are incredibly cheap the...   \n",
       "22    <p>Hobby servos are generally not sufficient f...   \n",
       "23    <p>What characteristics can I look for which c...   \n",
       "24    <p>With two wheeled robot <a href=\"http://www....   \n",
       "25    <p>I'm part of a <a href=\"http://usfirst.org\">...   \n",
       "26    <p>I've got this driver: <a href=\"http://www.p...   \n",
       "27    <p>For a robotic gripper arm we are designing ...   \n",
       "28    <p>Design goal is to have a mobile robot that ...   \n",
       "29    <p><a href=\"http://www.youtube.com/watch?v=ZHJ...   \n",
       "...                                                 ...   \n",
       "2741  <p>I am planning to build a scale version of a...   \n",
       "2742  <p>As a hardware engineer, I have studied quit...   \n",
       "2743  <p>I have some measurements of a real life rob...   \n",
       "2744  <p>I want to know what all essential component...   \n",
       "2745  <p>I can't find the package, in the ros site ,...   \n",
       "2746  <p>I am building a robotic arm with these spec...   \n",
       "2747  <p>I'm researching dynamic gaits for bipedal r...   \n",
       "2748  <p>I am currently working on a SLAM-like appli...   \n",
       "2749  <p>I have a Robot with tracks. One of the trac...   \n",
       "2750  <p>We need to determine the 2D position of my ...   \n",
       "2751  <p>I experienced some drifting when coming nea...   \n",
       "2752  <p>I'm currently designing an autonomous robot...   \n",
       "2753  <p>I want to make a simple Arduino based progr...   \n",
       "2754  <p>I recently came across this doubt... As the...   \n",
       "2755  <p>I am currently trying to implement a GraphS...   \n",
       "2756  <p>Ok, this may be a simple question, but here...   \n",
       "2757  <p>I'd like to build a robot that can move to ...   \n",
       "2758  <p>I am building a robot and I want to be able...   \n",
       "2759  <p>I am building a Pi car with 4 gear motors (...   \n",
       "2760  <p>I want to create an amateur wire looping ma...   \n",
       "2761  <p>i have \"TAROT ZYX-GS 3-Axis Gimbal Stabiliz...   \n",
       "2762  <p>I'm starting out with robotics, got my firs...   \n",
       "2763  <p>i have 3d gimbal system and i want to use t...   \n",
       "2764  <p>For this robot the gear attached to the mot...   \n",
       "2765  <p>I came across robotics library (RL), but qu...   \n",
       "2766  <p>I have a particular example robot that inte...   \n",
       "2767  <p>I have thought of a technique to increase t...   \n",
       "2768  <p>I am doing robotics project on Raspberry pi...   \n",
       "2769  <p>How to understand the 2d laser scanner scan...   \n",
       "2770  <p>Hey so I am trying to research into SWARM r...   \n",
       "\n",
       "                                                   tags  \n",
       "0                                        soccer control  \n",
       "1                                       control rcservo  \n",
       "2                                             gait walk  \n",
       "3                  microcontroller arduino raspberry-pi  \n",
       "4                                   motion-planning rrt  \n",
       "5                                     software platform  \n",
       "6                                      software circuit  \n",
       "7                   odometry localization kalman-filter  \n",
       "8                                              untagged  \n",
       "9                                      soccer mechanism  \n",
       "10                        computer-vision wheeled-robot  \n",
       "11                                           quadcopter  \n",
       "12                                               servos  \n",
       "13                            localization mobile-robot  \n",
       "14                                         kinect input  \n",
       "15                                                wheel  \n",
       "16                control gyroscope balance two-wheeled  \n",
       "17                                design underwater auv  \n",
       "18                               underwater battery auv  \n",
       "19                               electronics protection  \n",
       "20                                     localization gps  \n",
       "21    slam localization gps mapping acoustic-rangefi...  \n",
       "22                       servos heat-management cooling  \n",
       "23                                sensors failure motor  \n",
       "24                                two-wheeled stability  \n",
       "25    mobile-robot design movement wheel first-robotics  \n",
       "26    arduino logic-control stepper-motor stepper-dr...  \n",
       "27                                         mobile-robot  \n",
       "28                    servos mobile-robot stepper-motor  \n",
       "29                                 motor actuator noise  \n",
       "...                                                 ...  \n",
       "2741                                             servos  \n",
       "2742  control kalman-filter imu calibration precise-...  \n",
       "2743                                           3d-model  \n",
       "2744                                       localization  \n",
       "2745                                                ros  \n",
       "2746      motor robotic-arm stepper-motor servos torque  \n",
       "2747                                      walking-robot  \n",
       "2748                 slam computer-vision stereo-vision  \n",
       "2749                                mobile-robot tracks  \n",
       "2750             localization lidar precise-positioning  \n",
       "2751                               sensors imu rotation  \n",
       "2752                         computer-vision automation  \n",
       "2753                                            arduino  \n",
       "2754                         quadcopter microcontroller  \n",
       "2755                            localization slam lidar  \n",
       "2756                                       mobile-robot  \n",
       "2757                                      wheeled-robot  \n",
       "2758                            real-time digital-audio  \n",
       "2759                           motor raspberry-pi power  \n",
       "2760                                              motor  \n",
       "2761                   quadcopter sensors accelerometer  \n",
       "2762                           motor quadrature-encoder  \n",
       "2763                 quadcopter accelerometer gyroscope  \n",
       "2764                        mobile-robot torque gearing  \n",
       "2765          inverse-kinematics c++ forward-kinematics  \n",
       "2766                  motor robotic-arm actuator torque  \n",
       "2767                        microcontroller electronics  \n",
       "2768  arduino raspberry-pi embedded-systems first-ro...  \n",
       "2769                            slam ekf first-robotics  \n",
       "2770                                           wireless  \n",
       "\n",
       "[2771 rows x 4 columns]"
      ]
     },
     "execution_count": 3,
     "metadata": {},
     "output_type": "execute_result"
    }
   ],
   "source": [
    "tmp = pd.read_csv('robotics.csv')\n",
    "#train = read_data('cooking.csv')\n",
    "#validation = read_data('validation.tsv')\n",
    "#test = pd.read_csv('test.tsv', sep='\\t')\n",
    "tmp"
   ]
  },
  {
   "cell_type": "code",
   "execution_count": 4,
   "metadata": {},
   "outputs": [],
   "source": [
    "test = tmp.tail(271)\n",
    "train = tmp.head(2500)\n",
    "validation = tmp.head(115).tail(1500)"
   ]
  },
  {
   "cell_type": "code",
   "execution_count": 5,
   "metadata": {},
   "outputs": [
    {
     "data": {
      "text/html": [
       "<div>\n",
       "<style scoped>\n",
       "    .dataframe tbody tr th:only-of-type {\n",
       "        vertical-align: middle;\n",
       "    }\n",
       "\n",
       "    .dataframe tbody tr th {\n",
       "        vertical-align: top;\n",
       "    }\n",
       "\n",
       "    .dataframe thead th {\n",
       "        text-align: right;\n",
       "    }\n",
       "</style>\n",
       "<table border=\"1\" class=\"dataframe\">\n",
       "  <thead>\n",
       "    <tr style=\"text-align: right;\">\n",
       "      <th></th>\n",
       "      <th>id</th>\n",
       "      <th>title</th>\n",
       "      <th>content</th>\n",
       "      <th>tags</th>\n",
       "    </tr>\n",
       "  </thead>\n",
       "  <tbody>\n",
       "    <tr>\n",
       "      <th>0</th>\n",
       "      <td>1</td>\n",
       "      <td>What is the right approach to write the spin c...</td>\n",
       "      <td>&lt;p&gt;Imagine programming a 3 wheel soccer robot....</td>\n",
       "      <td>soccer control</td>\n",
       "    </tr>\n",
       "    <tr>\n",
       "      <th>1</th>\n",
       "      <td>2</td>\n",
       "      <td>How can I modify a low cost hobby servo to run...</td>\n",
       "      <td>&lt;p&gt;I've got some hobby servos (&lt;a href=\"http:/...</td>\n",
       "      <td>control rcservo</td>\n",
       "    </tr>\n",
       "    <tr>\n",
       "      <th>2</th>\n",
       "      <td>3</td>\n",
       "      <td>What useful gaits exist for a six legged robot...</td>\n",
       "      <td>&lt;p&gt;&lt;a href=\"http://www.oricomtech.com/projects...</td>\n",
       "      <td>gait walk</td>\n",
       "    </tr>\n",
       "    <tr>\n",
       "      <th>3</th>\n",
       "      <td>4</td>\n",
       "      <td>Good Microcontrollers/SOCs for a Robotics Project</td>\n",
       "      <td>&lt;p&gt;I am looking for a starting point for my pr...</td>\n",
       "      <td>microcontroller arduino raspberry-pi</td>\n",
       "    </tr>\n",
       "    <tr>\n",
       "      <th>4</th>\n",
       "      <td>5</td>\n",
       "      <td>Nearest-neighbor data structure for non-Euclid...</td>\n",
       "      <td>&lt;p&gt;I'm trying to implement a nearest-neighbor ...</td>\n",
       "      <td>motion-planning rrt</td>\n",
       "    </tr>\n",
       "  </tbody>\n",
       "</table>\n",
       "</div>"
      ],
      "text/plain": [
       "   id                                              title  \\\n",
       "0   1  What is the right approach to write the spin c...   \n",
       "1   2  How can I modify a low cost hobby servo to run...   \n",
       "2   3  What useful gaits exist for a six legged robot...   \n",
       "3   4  Good Microcontrollers/SOCs for a Robotics Project   \n",
       "4   5  Nearest-neighbor data structure for non-Euclid...   \n",
       "\n",
       "                                             content  \\\n",
       "0  <p>Imagine programming a 3 wheel soccer robot....   \n",
       "1  <p>I've got some hobby servos (<a href=\"http:/...   \n",
       "2  <p><a href=\"http://www.oricomtech.com/projects...   \n",
       "3  <p>I am looking for a starting point for my pr...   \n",
       "4  <p>I'm trying to implement a nearest-neighbor ...   \n",
       "\n",
       "                                   tags  \n",
       "0                        soccer control  \n",
       "1                       control rcservo  \n",
       "2                             gait walk  \n",
       "3  microcontroller arduino raspberry-pi  \n",
       "4                   motion-planning rrt  "
      ]
     },
     "execution_count": 5,
     "metadata": {},
     "output_type": "execute_result"
    }
   ],
   "source": [
    "validation.head()"
   ]
  },
  {
   "cell_type": "code",
   "execution_count": 6,
   "metadata": {
    "_uuid": "2408cacb2e2d5f4f514afbc0404843ee1e94d72a"
   },
   "outputs": [
    {
     "data": {
      "text/html": [
       "<div>\n",
       "<style scoped>\n",
       "    .dataframe tbody tr th:only-of-type {\n",
       "        vertical-align: middle;\n",
       "    }\n",
       "\n",
       "    .dataframe tbody tr th {\n",
       "        vertical-align: top;\n",
       "    }\n",
       "\n",
       "    .dataframe thead th {\n",
       "        text-align: right;\n",
       "    }\n",
       "</style>\n",
       "<table border=\"1\" class=\"dataframe\">\n",
       "  <thead>\n",
       "    <tr style=\"text-align: right;\">\n",
       "      <th></th>\n",
       "      <th>id</th>\n",
       "      <th>title</th>\n",
       "      <th>content</th>\n",
       "      <th>tags</th>\n",
       "    </tr>\n",
       "  </thead>\n",
       "  <tbody>\n",
       "    <tr>\n",
       "      <th>0</th>\n",
       "      <td>1</td>\n",
       "      <td>What is the right approach to write the spin c...</td>\n",
       "      <td>&lt;p&gt;Imagine programming a 3 wheel soccer robot....</td>\n",
       "      <td>soccer control</td>\n",
       "    </tr>\n",
       "    <tr>\n",
       "      <th>1</th>\n",
       "      <td>2</td>\n",
       "      <td>How can I modify a low cost hobby servo to run...</td>\n",
       "      <td>&lt;p&gt;I've got some hobby servos (&lt;a href=\"http:/...</td>\n",
       "      <td>control rcservo</td>\n",
       "    </tr>\n",
       "    <tr>\n",
       "      <th>2</th>\n",
       "      <td>3</td>\n",
       "      <td>What useful gaits exist for a six legged robot...</td>\n",
       "      <td>&lt;p&gt;&lt;a href=\"http://www.oricomtech.com/projects...</td>\n",
       "      <td>gait walk</td>\n",
       "    </tr>\n",
       "    <tr>\n",
       "      <th>3</th>\n",
       "      <td>4</td>\n",
       "      <td>Good Microcontrollers/SOCs for a Robotics Project</td>\n",
       "      <td>&lt;p&gt;I am looking for a starting point for my pr...</td>\n",
       "      <td>microcontroller arduino raspberry-pi</td>\n",
       "    </tr>\n",
       "    <tr>\n",
       "      <th>4</th>\n",
       "      <td>5</td>\n",
       "      <td>Nearest-neighbor data structure for non-Euclid...</td>\n",
       "      <td>&lt;p&gt;I'm trying to implement a nearest-neighbor ...</td>\n",
       "      <td>motion-planning rrt</td>\n",
       "    </tr>\n",
       "  </tbody>\n",
       "</table>\n",
       "</div>"
      ],
      "text/plain": [
       "   id                                              title  \\\n",
       "0   1  What is the right approach to write the spin c...   \n",
       "1   2  How can I modify a low cost hobby servo to run...   \n",
       "2   3  What useful gaits exist for a six legged robot...   \n",
       "3   4  Good Microcontrollers/SOCs for a Robotics Project   \n",
       "4   5  Nearest-neighbor data structure for non-Euclid...   \n",
       "\n",
       "                                             content  \\\n",
       "0  <p>Imagine programming a 3 wheel soccer robot....   \n",
       "1  <p>I've got some hobby servos (<a href=\"http:/...   \n",
       "2  <p><a href=\"http://www.oricomtech.com/projects...   \n",
       "3  <p>I am looking for a starting point for my pr...   \n",
       "4  <p>I'm trying to implement a nearest-neighbor ...   \n",
       "\n",
       "                                   tags  \n",
       "0                        soccer control  \n",
       "1                       control rcservo  \n",
       "2                             gait walk  \n",
       "3  microcontroller arduino raspberry-pi  \n",
       "4                   motion-planning rrt  "
      ]
     },
     "execution_count": 6,
     "metadata": {},
     "output_type": "execute_result"
    }
   ],
   "source": [
    "train.head()"
   ]
  },
  {
   "cell_type": "code",
   "execution_count": 7,
   "metadata": {
    "_uuid": "434572be0a462f6f57520b91e65dcbfb82ea747c"
   },
   "outputs": [
    {
     "data": {
      "text/html": [
       "<div>\n",
       "<style scoped>\n",
       "    .dataframe tbody tr th:only-of-type {\n",
       "        vertical-align: middle;\n",
       "    }\n",
       "\n",
       "    .dataframe tbody tr th {\n",
       "        vertical-align: top;\n",
       "    }\n",
       "\n",
       "    .dataframe thead th {\n",
       "        text-align: right;\n",
       "    }\n",
       "</style>\n",
       "<table border=\"1\" class=\"dataframe\">\n",
       "  <thead>\n",
       "    <tr style=\"text-align: right;\">\n",
       "      <th></th>\n",
       "      <th>id</th>\n",
       "      <th>title</th>\n",
       "      <th>content</th>\n",
       "      <th>tags</th>\n",
       "    </tr>\n",
       "  </thead>\n",
       "  <tbody>\n",
       "    <tr>\n",
       "      <th>2500</th>\n",
       "      <td>9728</td>\n",
       "      <td>How to check for a sharp angle with a line fol...</td>\n",
       "      <td>&lt;p&gt;I have the &lt;a href=\"http://www.makeblock.cc...</td>\n",
       "      <td>arduino motor line-following</td>\n",
       "    </tr>\n",
       "    <tr>\n",
       "      <th>2501</th>\n",
       "      <td>9729</td>\n",
       "      <td>Diffrence between Degrees of Freedom (DOF) and...</td>\n",
       "      <td>&lt;p&gt;Could anyone expain me shortly what is a di...</td>\n",
       "      <td>manipulator theory</td>\n",
       "    </tr>\n",
       "    <tr>\n",
       "      <th>2502</th>\n",
       "      <td>9738</td>\n",
       "      <td>How can a quadcopter be made to hover perfectl...</td>\n",
       "      <td>&lt;p&gt;I need to get my drone flying still enough ...</td>\n",
       "      <td>quadcopter</td>\n",
       "    </tr>\n",
       "    <tr>\n",
       "      <th>2503</th>\n",
       "      <td>9739</td>\n",
       "      <td>Quadcopter Flight Controller:Why does Using gy...</td>\n",
       "      <td>&lt;p&gt;I have succeeded in making my first quadcop...</td>\n",
       "      <td>quadcopter pid gyroscope</td>\n",
       "    </tr>\n",
       "    <tr>\n",
       "      <th>2504</th>\n",
       "      <td>9741</td>\n",
       "      <td>Principle of virtual force - General help in u...</td>\n",
       "      <td>&lt;p&gt;I'm an Electronics student taking a module ...</td>\n",
       "      <td>kinematics jacobian</td>\n",
       "    </tr>\n",
       "  </tbody>\n",
       "</table>\n",
       "</div>"
      ],
      "text/plain": [
       "        id                                              title  \\\n",
       "2500  9728  How to check for a sharp angle with a line fol...   \n",
       "2501  9729  Diffrence between Degrees of Freedom (DOF) and...   \n",
       "2502  9738  How can a quadcopter be made to hover perfectl...   \n",
       "2503  9739  Quadcopter Flight Controller:Why does Using gy...   \n",
       "2504  9741  Principle of virtual force - General help in u...   \n",
       "\n",
       "                                                content  \\\n",
       "2500  <p>I have the <a href=\"http://www.makeblock.cc...   \n",
       "2501  <p>Could anyone expain me shortly what is a di...   \n",
       "2502  <p>I need to get my drone flying still enough ...   \n",
       "2503  <p>I have succeeded in making my first quadcop...   \n",
       "2504  <p>I'm an Electronics student taking a module ...   \n",
       "\n",
       "                              tags  \n",
       "2500  arduino motor line-following  \n",
       "2501            manipulator theory  \n",
       "2502                    quadcopter  \n",
       "2503      quadcopter pid gyroscope  \n",
       "2504           kinematics jacobian  "
      ]
     },
     "execution_count": 7,
     "metadata": {},
     "output_type": "execute_result"
    }
   ],
   "source": [
    "test.head()"
   ]
  },
  {
   "cell_type": "code",
   "execution_count": 8,
   "metadata": {
    "_uuid": "7e7c07415f19f8ef175859d6d378fa71f20a43a9"
   },
   "outputs": [],
   "source": [
    "X_train, y_train = train['title'].values, train['tags'].values\n",
    "X_val, y_val = validation['title'].values, validation['tags'].values\n",
    "X_test = test['title'].values"
   ]
  },
  {
   "cell_type": "code",
   "execution_count": 9,
   "metadata": {
    "_uuid": "1a44209b8eeeb781b6d2d592b4d9e5846e3b587c"
   },
   "outputs": [
    {
     "data": {
      "text/plain": [
       "'control rcservo'"
      ]
     },
     "execution_count": 9,
     "metadata": {},
     "output_type": "execute_result"
    }
   ],
   "source": [
    "y_train[1]"
   ]
  },
  {
   "cell_type": "code",
   "execution_count": 10,
   "metadata": {
    "_uuid": "e1d92189d0e832b03e99604ddab5ad6551f6dab8"
   },
   "outputs": [],
   "source": [
    "import re"
   ]
  },
  {
   "cell_type": "code",
   "execution_count": 11,
   "metadata": {
    "_uuid": "62459fd06eb930749b9f5b6905bd505e2998a7e7"
   },
   "outputs": [],
   "source": [
    "REPLACE_BY_SPACE_RE = re.compile('[/(){}\\[\\]\\|@,;]')\n",
    "BAD_SYMBOLS_RE = re.compile('[^0-9a-z #+_]')\n",
    "STOPWORDS = set(stopwords.words('english'))\n",
    "\n",
    "def text_prepare(text):\n",
    "    text = text.lower()\n",
    "    text = REPLACE_BY_SPACE_RE.sub(' ', text)\n",
    "    text = BAD_SYMBOLS_RE.sub('', text)\n",
    "    text = ' '.join(word for word in text.split() if word not in STOPWORDS)\n",
    "    #print(text)\n",
    "    return text"
   ]
  },
  {
   "cell_type": "code",
   "execution_count": 12,
   "metadata": {
    "_uuid": "fa44651202a367dcfbd1817ab638e10b6bbc12f0"
   },
   "outputs": [],
   "source": [
    "# prepared_questions = []\n",
    "# for line in open('text_prepare_tests.tsv', encoding='utf-8'):\n",
    "#     line = text_prepare(line.strip())\n",
    "#     prepared_questions.append(line)\n",
    "# text_prepare_results = '\\n'.join(prepared_questions)"
   ]
  },
  {
   "cell_type": "code",
   "execution_count": 13,
   "metadata": {
    "_uuid": "c9e303d8c6d5ba8754b67878f014cbfb9de3fc67"
   },
   "outputs": [],
   "source": [
    "X_train = [text_prepare(x) for x in X_train]\n",
    "X_val = [text_prepare(x) for x in X_val]\n",
    "X_test = [text_prepare(x) for x in X_test]"
   ]
  },
  {
   "cell_type": "code",
   "execution_count": 14,
   "metadata": {
    "_uuid": "7517235bc286f290c01f373ab158e30a183ad44c"
   },
   "outputs": [
    {
     "data": {
      "text/plain": [
       "array(['soccer control', 'control rcservo', 'gait walk'], dtype=object)"
      ]
     },
     "execution_count": 14,
     "metadata": {},
     "output_type": "execute_result"
    }
   ],
   "source": [
    "y_train[:3]"
   ]
  },
  {
   "cell_type": "code",
   "execution_count": 15,
   "metadata": {
    "_uuid": "5c54dca0249e38186269ca87571863b63eccdedc"
   },
   "outputs": [],
   "source": [
    "from collections import defaultdict\n",
    "tags_counts = defaultdict(int)\n",
    "words_counts = defaultdict(int)\n",
    "tmp=[]\n",
    "\n",
    "for tags in y_train:\n",
    "    tt = tags.split()\n",
    "    tmp.append(tt)\n",
    "    for tag in tt:\n",
    "        #print(tag)\n",
    "        tags_counts[tag] += 1\n",
    "y_train=tmp\n",
    "tmp=[]\n",
    "\n",
    "for text in X_train:\n",
    "    for word in text.split():\n",
    "        #print(word)\n",
    "        words_counts[word] += 1\n",
    "        \n",
    "for tags in y_val:\n",
    "    tt = tags.split()\n",
    "    tmp.append(tt)\n",
    "    for tag in tt:\n",
    "        #print(tag)\n",
    "        tags_counts[tag] += 1\n",
    "y_val=tmp\n",
    "tmp=[]\n",
    "for text in X_val:\n",
    "    for word in text.split():\n",
    "        #print(word)\n",
    "        words_counts[word] += 1\n",
    "  "
   ]
  },
  {
   "cell_type": "code",
   "execution_count": 16,
   "metadata": {},
   "outputs": [],
   "source": [
    "most_common_tags = sorted(tags_counts.items(), key=lambda x: x[1], reverse=True)[:10]\n",
    "most_common_words = sorted(words_counts.items(), key=lambda x: x[1], reverse=True)[:3]"
   ]
  },
  {
   "cell_type": "code",
   "execution_count": 17,
   "metadata": {
    "scrolled": true
   },
   "outputs": [
    {
     "data": {
      "text/plain": [
       "[('robot', 312), ('motor', 174), ('control', 152)]"
      ]
     },
     "execution_count": 17,
     "metadata": {},
     "output_type": "execute_result"
    }
   ],
   "source": [
    "most_common_words"
   ]
  },
  {
   "cell_type": "code",
   "execution_count": 18,
   "metadata": {},
   "outputs": [
    {
     "data": {
      "text/plain": [
       "[('mobile-robot', 279),\n",
       " ('quadcopter', 276),\n",
       " ('arduino', 258),\n",
       " ('control', 250),\n",
       " ('motor', 218),\n",
       " ('sensors', 195),\n",
       " ('pid', 155),\n",
       " ('robotic-arm', 155),\n",
       " ('localization', 119),\n",
       " ('microcontroller', 118)]"
      ]
     },
     "execution_count": 18,
     "metadata": {},
     "output_type": "execute_result"
    }
   ],
   "source": [
    "most_common_tags"
   ]
  },
  {
   "cell_type": "code",
   "execution_count": 19,
   "metadata": {
    "_uuid": "1a8543abbd24292be2672fdb6d1a77397bb553ac"
   },
   "outputs": [],
   "source": [
    "from scipy import sparse as sp_sparse\n",
    "from sklearn.feature_extraction.text import TfidfVectorizer"
   ]
  },
  {
   "cell_type": "code",
   "execution_count": 20,
   "metadata": {
    "_uuid": "efd522df70b51cde884d7640131b3dbcabb6fadc"
   },
   "outputs": [
    {
     "name": "stdout",
     "output_type": "stream",
     "text": [
      "Object `TfidVectorizer` not found.\n"
     ]
    }
   ],
   "source": [
    "??TfidVectorizer"
   ]
  },
  {
   "cell_type": "code",
   "execution_count": 21,
   "metadata": {},
   "outputs": [],
   "source": [
    "#X_val"
   ]
  },
  {
   "cell_type": "code",
   "execution_count": 22,
   "metadata": {
    "_uuid": "9a88f397420f399b3e6fbc7afa74cdbe3aedd196"
   },
   "outputs": [],
   "source": [
    "tfidf_vectorizer = TfidfVectorizer(min_df=5, max_df=0.9, ngram_range=(1, 2),token_pattern='(\\S+)')\n",
    "X_train_tfidf = tfidf_vectorizer.fit_transform(X_train)\n",
    "X_val_tfidf = tfidf_vectorizer.transform(X_val)\n",
    "X_test_tfidf = tfidf_vectorizer.transform(X_test)\n",
    "tfidf_vocab = tfidf_vectorizer.vocabulary_\n",
    "#X_train_tfidf, X_val_tfidf, X_test_tfidf, tfidf_vocab = tfidf_features(X_train, X_val, X_test)\n"
   ]
  },
  {
   "cell_type": "code",
   "execution_count": 23,
   "metadata": {},
   "outputs": [],
   "source": [
    "tfidf_reversed_vocab = {i:word for word,i in tfidf_vocab.items()}"
   ]
  },
  {
   "cell_type": "code",
   "execution_count": 26,
   "metadata": {
    "_uuid": "831b4308bc8ffd086f9f25d68143f8b25b40f2b0"
   },
   "outputs": [
    {
     "data": {
      "text/plain": [
       "530"
      ]
     },
     "execution_count": 26,
     "metadata": {},
     "output_type": "execute_result"
    }
   ],
   "source": [
    "tfidf_vocab['servo']"
   ]
  },
  {
   "cell_type": "code",
   "execution_count": 27,
   "metadata": {
    "_uuid": "1572b9747b1c4b3ecc92b0e389886c255443ddc4"
   },
   "outputs": [],
   "source": [
    "from sklearn.preprocessing import MultiLabelBinarizer"
   ]
  },
  {
   "cell_type": "code",
   "execution_count": 28,
   "metadata": {
    "scrolled": true
   },
   "outputs": [
    {
     "data": {
      "text/plain": [
       "dict_keys(['soccer', 'control', 'rcservo', 'gait', 'walk', 'microcontroller', 'arduino', 'raspberry-pi', 'motion-planning', 'rrt', 'software', 'platform', 'circuit', 'odometry', 'localization', 'kalman-filter', 'untagged', 'mechanism', 'computer-vision', 'wheeled-robot', 'quadcopter', 'servos', 'mobile-robot', 'kinect', 'input', 'wheel', 'gyroscope', 'balance', 'two-wheeled', 'design', 'underwater', 'auv', 'battery', 'electronics', 'protection', 'gps', 'slam', 'mapping', 'acoustic-rangefinder', 'heat-management', 'cooling', 'sensors', 'failure', 'motor', 'stability', 'movement', 'first-robotics', 'logic-control', 'stepper-motor', 'stepper-driver', 'actuator', 'noise', 'brushless-motor', 'hall-sensor', 'avr', 'interrupts', 'wiring', 'errors', 'artificial-intelligence', 'planning', 'mindstorms', 'nxt', 'real-time', 'i2c', 'research', 'industrial-robot', 'force', 'reprap', '3d-printing', 'linear-bearing', 'c', 'ros', 'imu', 'ugv', 'pid', 'tuning', 'air-muscle', 'automatic', 'beginner', 'python', 'wifi', 'serial', 'rs232', 'force-sensor', 'servomotor', 'uav', 'kit', 'pwm', 'dynamics', 'multi-agent', 'robotic-arm', 'programming-languages', 'inverse-kinematics', 'kinematics', 'joint', 'arm', 'robotc', 'machine-learning', 'walking-robot', 'tracks', 'reliability', 'reinforcement-learning', 'line-following', 'sensor-fusion', 'hri', 'books', 'deduced-reckoning', 'navigation', 'accelerometer', 'radio-control', 'power', 'troubleshooting', 'driver', 'usb', 'particle-filter', 'manufacturing', 'current', 'operating-systems', 'algorithm', 'coverage', 'theory', 'calibration', 'not-exactly-c', 'routing', 'motion', 'roomba', 'irobot-create', 'simulator', 'children', 'c++', 'ransac', 'compass', 'ekf', 'bec', 'uncanny-valley', 'communication', 'manipulator', 'cnc', 'esc', 'stereo-vision', 'cameras', 'forward-kinematics', 'visualization', 'micromouse', 'encoding', 'torque', 'dynamic-programming', 'gazebo', 'distributed-systems', 'embedded-systems', 'hexapod', 'multi-rotor', 'legged', 'ardupilot', 'magnetometer', 'openni', 'lidar', 'h-bridge', 'sonar', 'sensor-error', 'activerobot', 'differential-drive', 'wireless', 'swarm', 'visual-servoing', 'can', 'pose', 'valve', 'beagle-bone', 'humanoid', 'quadrature-encoder', 'ultrasonic-sensors', 'rangefinder', 'rock', 'frame', 'linux', 'speech-processing', 'digital-audio', 'dh-parameters', 'syskit', 'data-association', 'chassis', 'matlab', 'laser', 'reference-request', 'occupancygrid', 'simulation', 'jacobian', 'probability', 'battle-bot', 'product-of-exponentials', 'mavlink', 'gearing', 'vex', 'dynamixel', 'rocket', 'lithium-polymer', '3d-reconstruction', '3d-model', 'filter', 'automation', 'orientation', 'opencv', 'statistics', 'geometry', 'precise-positioning', 'alljoyn', 'labview', 'exploration', 'information-gain', 'kuka', 'steering', 'brake', 'rotation', 'engine', 'electric', 'propulsion', 'vector-field-histogram', 'vfh'])"
      ]
     },
     "execution_count": 28,
     "metadata": {},
     "output_type": "execute_result"
    }
   ],
   "source": [
    "tags_counts.keys()"
   ]
  },
  {
   "cell_type": "code",
   "execution_count": 29,
   "metadata": {},
   "outputs": [
    {
     "data": {
      "text/plain": [
       "[['soccer', 'control'],\n",
       " ['control', 'rcservo'],\n",
       " ['gait', 'walk'],\n",
       " ['microcontroller', 'arduino', 'raspberry-pi'],\n",
       " ['motion-planning', 'rrt'],\n",
       " ['software', 'platform'],\n",
       " ['software', 'circuit'],\n",
       " ['odometry', 'localization', 'kalman-filter'],\n",
       " ['untagged'],\n",
       " ['soccer', 'mechanism'],\n",
       " ['computer-vision', 'wheeled-robot'],\n",
       " ['quadcopter'],\n",
       " ['servos'],\n",
       " ['localization', 'mobile-robot'],\n",
       " ['kinect', 'input'],\n",
       " ['wheel'],\n",
       " ['control', 'gyroscope', 'balance', 'two-wheeled'],\n",
       " ['design', 'underwater', 'auv'],\n",
       " ['underwater', 'battery', 'auv'],\n",
       " ['electronics', 'protection'],\n",
       " ['localization', 'gps'],\n",
       " ['slam', 'localization', 'gps', 'mapping', 'acoustic-rangefinder'],\n",
       " ['servos', 'heat-management', 'cooling'],\n",
       " ['sensors', 'failure', 'motor'],\n",
       " ['two-wheeled', 'stability'],\n",
       " ['mobile-robot', 'design', 'movement', 'wheel', 'first-robotics'],\n",
       " ['arduino', 'logic-control', 'stepper-motor', 'stepper-driver'],\n",
       " ['mobile-robot'],\n",
       " ['servos', 'mobile-robot', 'stepper-motor'],\n",
       " ['motor', 'actuator', 'noise'],\n",
       " ['brushless-motor', 'hall-sensor'],\n",
       " ['software', 'microcontroller'],\n",
       " ['microcontroller', 'avr', 'interrupts'],\n",
       " ['wiring'],\n",
       " ['mobile-robot', 'two-wheeled'],\n",
       " ['mobile-robot', 'errors'],\n",
       " ['sensors', 'noise'],\n",
       " ['motion-planning', 'artificial-intelligence', 'planning'],\n",
       " ['mindstorms', 'nxt'],\n",
       " ['mobile-robot', 'design', 'stability', 'wheeled-robot'],\n",
       " ['software', 'platform', 'real-time'],\n",
       " ['software', 'microcontroller', 'i2c'],\n",
       " ['research'],\n",
       " ['mobile-robot', 'industrial-robot'],\n",
       " ['control', 'motor', 'force'],\n",
       " ['reprap', '3d-printing', 'linear-bearing'],\n",
       " ['kinect'],\n",
       " ['motor', 'underwater', 'auv', 'protection'],\n",
       " ['microcontroller', 'c'],\n",
       " ['ros', 'imu', 'odometry', 'gyroscope', 'ugv'],\n",
       " ['control', 'pid', 'tuning'],\n",
       " ['localization', 'gps', 'sensors', 'slam'],\n",
       " ['artificial-intelligence'],\n",
       " ['control', 'pid', 'air-muscle'],\n",
       " ['research'],\n",
       " ['actuator'],\n",
       " ['slam'],\n",
       " ['control', 'pid', 'automatic', 'tuning'],\n",
       " ['actuator'],\n",
       " ['arduino', 'microcontroller', 'beginner'],\n",
       " ['computer-vision'],\n",
       " ['ros', 'python'],\n",
       " ['ros', 'raspberry-pi', 'wifi'],\n",
       " ['stability', 'quadcopter'],\n",
       " ['design', 'stability', 'quadcopter'],\n",
       " ['microcontroller', 'serial', 'rs232'],\n",
       " ['sensors', 'force-sensor'],\n",
       " ['brushless-motor', 'servomotor'],\n",
       " ['uav', 'kit'],\n",
       " ['localization', 'quadcopter', 'gps'],\n",
       " ['brushless-motor', 'pwm'],\n",
       " ['mobile-robot', 'design', 'dynamics'],\n",
       " ['motor', 'protection'],\n",
       " ['sensors', 'uav', 'multi-agent'],\n",
       " ['servos', 'i2c'],\n",
       " ['kalman-filter', 'uav'],\n",
       " ['mobile-robot', 'robotic-arm', 'actuator'],\n",
       " ['software', 'programming-languages'],\n",
       " ['inverse-kinematics', 'kinematics', 'joint', 'arm'],\n",
       " ['control', 'motion-planning'],\n",
       " ['mobile-robot', 'software', 'two-wheeled', 'robotc'],\n",
       " ['control'],\n",
       " ['mobile-robot', 'software', 'slam', 'ros'],\n",
       " ['arduino', 'microcontroller', 'machine-learning', 'walking-robot'],\n",
       " ['logic-control'],\n",
       " ['control', 'motion-planning', 'tracks'],\n",
       " ['failure', 'reliability'],\n",
       " ['errors'],\n",
       " ['localization',\n",
       "  'motion-planning',\n",
       "  'industrial-robot',\n",
       "  'inverse-kinematics',\n",
       "  'kinematics'],\n",
       " ['control', 'research'],\n",
       " ['motion-planning', 'industrial-robot', 'joint'],\n",
       " ['localization', 'kalman-filter'],\n",
       " ['machine-learning',\n",
       "  'artificial-intelligence',\n",
       "  'reinforcement-learning',\n",
       "  'line-following'],\n",
       " ['inverse-kinematics', 'reinforcement-learning', 'machine-learning'],\n",
       " ['software', 'inverse-kinematics', 'arm', 'rs232'],\n",
       " ['sensors', 'kalman-filter', 'sensor-fusion'],\n",
       " ['imu', 'sensor-fusion', 'hri'],\n",
       " ['books'],\n",
       " ['ugv'],\n",
       " ['sensors', 'deduced-reckoning', 'navigation', 'accelerometer'],\n",
       " ['microcontroller', 'quadcopter', 'radio-control'],\n",
       " ['design', 'servos', 'power'],\n",
       " ['software', 'imu', 'deduced-reckoning', 'artificial-intelligence'],\n",
       " ['inverse-kinematics', 'programming-languages'],\n",
       " ['mobile-robot', 'localization', 'computer-vision', 'odometry'],\n",
       " ['reinforcement-learning', 'pwm'],\n",
       " ['mobile-robot', 'sensors'],\n",
       " ['slam', 'computer-vision'],\n",
       " ['stepper-motor', 'reprap'],\n",
       " ['battery', 'troubleshooting'],\n",
       " ['control', 'pid'],\n",
       " ['brushless-motor', 'driver'],\n",
       " ['navigation'],\n",
       " ['kit'],\n",
       " ['rs232', 'usb']]"
      ]
     },
     "execution_count": 29,
     "metadata": {},
     "output_type": "execute_result"
    }
   ],
   "source": [
    "y_val"
   ]
  },
  {
   "cell_type": "code",
   "execution_count": 30,
   "metadata": {
    "_uuid": "883b54957e5154072f0b8e59af2a6f2a605100b6"
   },
   "outputs": [],
   "source": [
    "mlb = MultiLabelBinarizer(classes=sorted(tags_counts.keys()))\n",
    "y_train = mlb.fit_transform(y_train)\n",
    "y_val = mlb.fit_transform(y_val)"
   ]
  },
  {
   "cell_type": "code",
   "execution_count": 31,
   "metadata": {},
   "outputs": [
    {
     "data": {
      "text/plain": [
       "(2500, 219)"
      ]
     },
     "execution_count": 31,
     "metadata": {},
     "output_type": "execute_result"
    }
   ],
   "source": [
    "y_train.shape"
   ]
  },
  {
   "cell_type": "code",
   "execution_count": null,
   "metadata": {
    "_uuid": "ad082a14ca42fe901094549641f0145ac7e614e4"
   },
   "outputs": [],
   "source": []
  },
  {
   "cell_type": "markdown",
   "metadata": {
    "_uuid": "0e82de6ba1acfb9f3e5c1b170778e084bd0c3f56"
   },
   "source": [
    "Train the classifiers for different data transformations: *bag-of-words* and *tf-idf*."
   ]
  },
  {
   "cell_type": "code",
   "execution_count": 32,
   "metadata": {
    "_uuid": "da51fd4837e79c96214d3e704749ec52ea26265c"
   },
   "outputs": [
    {
     "name": "stdout",
     "output_type": "stream",
     "text": [
      "Wall time: 4.01 s\n"
     ]
    }
   ],
   "source": [
    "%%time\n",
    "from sklearn.multiclass import OneVsRestClassifier\n",
    "from sklearn.linear_model import LogisticRegression, RidgeClassifier\n",
    "clf = OneVsRestClassifier(RidgeClassifier(normalize=True))\n",
    "clf.fit(X_train_tfidf, y_train)\n",
    "# classifier_tfidf = train_classifier(X_train_tfidf, y_train)"
   ]
  },
  {
   "cell_type": "markdown",
   "metadata": {
    "_uuid": "294bf367ca93a0afd8c85d4169c3f871e2fe6e3b"
   },
   "source": [
    "Now you can create predictions for the data. You will need two types of predictions: labels and scores."
   ]
  },
  {
   "cell_type": "code",
   "execution_count": 33,
   "metadata": {
    "_uuid": "b06fddc6e21bb9cdedc31c67b990ced1d804151b"
   },
   "outputs": [
    {
     "name": "stdout",
     "output_type": "stream",
     "text": [
      "Wall time: 78.1 ms\n"
     ]
    }
   ],
   "source": [
    "%%time\n",
    "y_val_predicted_labels_tfidf = clf.predict(X_val_tfidf)\n",
    "# y_val_predicted_scores_tfidf = classifier_tfidf.decision_function(X_val_tfidf)"
   ]
  },
  {
   "cell_type": "markdown",
   "metadata": {
    "_uuid": "be149cae5b6dd54ca752f27ba075ee11198cdd7f"
   },
   "source": [
    "Now take a look at how classifier, which uses TF-IDF, works for a few examples:"
   ]
  },
  {
   "cell_type": "code",
   "execution_count": 34,
   "metadata": {
    "_uuid": "a03c639ec8f26ea6c0b925d52a7f39913c8dc4b1"
   },
   "outputs": [
    {
     "name": "stdout",
     "output_type": "stream",
     "text": [
      "[('electrical', 'powertools', 'tools'), ('central-heating', 'heating', 'radiator'), ('cleaning',)]\n"
     ]
    }
   ],
   "source": [
    "que = ['What power tools are there and what do they do?','Why are my radiators cold?','What’s the best way to clean paintbrushes?']\n",
    "que = [text_prepare(i) for i in que]\n",
    "# que = [que]\n",
    "que = tfidf_vectorizer.transform(que)\n",
    "yp = clf.predict(que)\n",
    "print(mlb.inverse_transform(yp))"
   ]
  },
  {
   "cell_type": "code",
   "execution_count": 35,
   "metadata": {
    "_uuid": "aeb425243ed23547f0a0cf5fa674edf04a9b7ba5"
   },
   "outputs": [],
   "source": [
    "import pickle\n",
    "import os \n",
    "pickle.dump(clf, open('model-diy.pkl', 'wb'))\n",
    "pickle.dump(mlb, open('tags-diy.pkl', 'wb'))\n",
    "pickle.dump(tfidf_vectorizer, open('tf-diy.pkl', 'wb'))"
   ]
  },
  {
   "cell_type": "code",
   "execution_count": null,
   "metadata": {
    "_uuid": "0b6c74e392f92508b53c4b2b5c8ab3b7506d2e68"
   },
   "outputs": [],
   "source": []
  }
 ],
 "metadata": {
  "kernelspec": {
   "display_name": "Python 3",
   "language": "python",
   "name": "python3"
  },
  "language_info": {
   "codemirror_mode": {
    "name": "ipython",
    "version": 3
   },
   "file_extension": ".py",
   "mimetype": "text/x-python",
   "name": "python",
   "nbconvert_exporter": "python",
   "pygments_lexer": "ipython3",
   "version": "3.6.6"
  },
  "varInspector": {
   "cols": {
    "lenName": 16,
    "lenType": 16,
    "lenVar": 40
   },
   "kernels_config": {
    "python": {
     "delete_cmd_postfix": "",
     "delete_cmd_prefix": "del ",
     "library": "var_list.py",
     "varRefreshCmd": "print(var_dic_list())"
    },
    "r": {
     "delete_cmd_postfix": ") ",
     "delete_cmd_prefix": "rm(",
     "library": "var_list.r",
     "varRefreshCmd": "cat(var_dic_list()) "
    }
   },
   "types_to_exclude": [
    "module",
    "function",
    "builtin_function_or_method",
    "instance",
    "_Feature"
   ],
   "window_display": false
  }
 },
 "nbformat": 4,
 "nbformat_minor": 1
}
