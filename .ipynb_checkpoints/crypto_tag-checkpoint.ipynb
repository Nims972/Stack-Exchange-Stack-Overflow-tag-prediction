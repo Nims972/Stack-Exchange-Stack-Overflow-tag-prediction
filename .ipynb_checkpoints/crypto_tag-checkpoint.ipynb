{
 "cells": [
  {
   "cell_type": "code",
   "execution_count": 1,
   "metadata": {
    "_uuid": "6d9d951d955e1c17f17b6d8ec9125e02e9346589"
   },
   "outputs": [],
   "source": [
    "import nltk\n",
    "#nltk.download('stopwords')\n",
    "from ast import literal_eval\n",
    "import pandas as pd\n",
    "import numpy as np\n",
    "from nltk.corpus import stopwords"
   ]
  },
  {
   "cell_type": "code",
   "execution_count": 2,
   "metadata": {
    "_uuid": "1d8f47b1fcb8211c364a18041ddb5c0858dd3722"
   },
   "outputs": [],
   "source": [
    "def read_data(filename):\n",
    "    data = pd.read_csv(filename, sep='\\t')\n",
    "    data['tags'] = data['tags'].apply(literal_eval)\n",
    "    return data"
   ]
  },
  {
   "cell_type": "code",
   "execution_count": 3,
   "metadata": {
    "_uuid": "9f2df6ee94f8220481ef6dc333afd5f33bd67a24"
   },
   "outputs": [],
   "source": [
    "tmp = pd.read_csv('crypto.csv')\n",
    "#train = read_data('cooking.csv')\n",
    "#validation = read_data('validation.tsv')\n",
    "#test = pd.read_csv('test.tsv', sep='\\t')"
   ]
  },
  {
   "cell_type": "code",
   "execution_count": 4,
   "metadata": {},
   "outputs": [],
   "source": [
    "test = tmp.tail(3904)\n",
    "train = tmp.head(11500)\n",
    "validation = tmp.head(11500).tail(1500)"
   ]
  },
  {
   "cell_type": "code",
   "execution_count": 5,
   "metadata": {},
   "outputs": [
    {
     "data": {
      "text/html": [
       "<div>\n",
       "<style scoped>\n",
       "    .dataframe tbody tr th:only-of-type {\n",
       "        vertical-align: middle;\n",
       "    }\n",
       "\n",
       "    .dataframe tbody tr th {\n",
       "        vertical-align: top;\n",
       "    }\n",
       "\n",
       "    .dataframe thead th {\n",
       "        text-align: right;\n",
       "    }\n",
       "</style>\n",
       "<table border=\"1\" class=\"dataframe\">\n",
       "  <thead>\n",
       "    <tr style=\"text-align: right;\">\n",
       "      <th></th>\n",
       "      <th>id</th>\n",
       "      <th>title</th>\n",
       "      <th>content</th>\n",
       "      <th>tags</th>\n",
       "    </tr>\n",
       "  </thead>\n",
       "  <tbody>\n",
       "    <tr>\n",
       "      <th>8932</th>\n",
       "      <td>33806</td>\n",
       "      <td>Breaking linear blockcipher - expanding recurs...</td>\n",
       "      <td>&lt;p&gt;I am trying to break a block cipher that ca...</td>\n",
       "      <td>block-cipher linear-cryptanalysis</td>\n",
       "    </tr>\n",
       "    <tr>\n",
       "      <th>8933</th>\n",
       "      <td>33808</td>\n",
       "      <td>Finding Private key in RSA with public key, ci...</td>\n",
       "      <td>&lt;p&gt;Is there a known 'non-brute force' method o...</td>\n",
       "      <td>encryption rsa public-key pki</td>\n",
       "    </tr>\n",
       "    <tr>\n",
       "      <th>8934</th>\n",
       "      <td>33810</td>\n",
       "      <td>Is WPA2(PKS) AES vulnerable to 4 way hand shak...</td>\n",
       "      <td>&lt;p&gt;I can easily crack a WPA TKIP using a dicti...</td>\n",
       "      <td>wpa2-psk</td>\n",
       "    </tr>\n",
       "    <tr>\n",
       "      <th>8935</th>\n",
       "      <td>33812</td>\n",
       "      <td>Is it acceptable to write the nonce to the enc...</td>\n",
       "      <td>&lt;p&gt;I've used AES-128 in CTR mode in the past a...</td>\n",
       "      <td>aes authenticated-encryption initialization-ve...</td>\n",
       "    </tr>\n",
       "    <tr>\n",
       "      <th>8936</th>\n",
       "      <td>33813</td>\n",
       "      <td>homomorpic encryption</td>\n",
       "      <td>&lt;p&gt;I am doing project k-nearest neighbor class...</td>\n",
       "      <td>encryption homomorphic-encryption</td>\n",
       "    </tr>\n",
       "  </tbody>\n",
       "</table>\n",
       "</div>"
      ],
      "text/plain": [
       "         id                                              title  \\\n",
       "8932  33806  Breaking linear blockcipher - expanding recurs...   \n",
       "8933  33808  Finding Private key in RSA with public key, ci...   \n",
       "8934  33810  Is WPA2(PKS) AES vulnerable to 4 way hand shak...   \n",
       "8935  33812  Is it acceptable to write the nonce to the enc...   \n",
       "8936  33813                              homomorpic encryption   \n",
       "\n",
       "                                                content  \\\n",
       "8932  <p>I am trying to break a block cipher that ca...   \n",
       "8933  <p>Is there a known 'non-brute force' method o...   \n",
       "8934  <p>I can easily crack a WPA TKIP using a dicti...   \n",
       "8935  <p>I've used AES-128 in CTR mode in the past a...   \n",
       "8936  <p>I am doing project k-nearest neighbor class...   \n",
       "\n",
       "                                                   tags  \n",
       "8932                  block-cipher linear-cryptanalysis  \n",
       "8933                      encryption rsa public-key pki  \n",
       "8934                                           wpa2-psk  \n",
       "8935  aes authenticated-encryption initialization-ve...  \n",
       "8936                  encryption homomorphic-encryption  "
      ]
     },
     "execution_count": 5,
     "metadata": {},
     "output_type": "execute_result"
    }
   ],
   "source": [
    "validation.head()"
   ]
  },
  {
   "cell_type": "code",
   "execution_count": 6,
   "metadata": {
    "_uuid": "2408cacb2e2d5f4f514afbc0404843ee1e94d72a"
   },
   "outputs": [
    {
     "data": {
      "text/html": [
       "<div>\n",
       "<style scoped>\n",
       "    .dataframe tbody tr th:only-of-type {\n",
       "        vertical-align: middle;\n",
       "    }\n",
       "\n",
       "    .dataframe tbody tr th {\n",
       "        vertical-align: top;\n",
       "    }\n",
       "\n",
       "    .dataframe thead th {\n",
       "        text-align: right;\n",
       "    }\n",
       "</style>\n",
       "<table border=\"1\" class=\"dataframe\">\n",
       "  <thead>\n",
       "    <tr style=\"text-align: right;\">\n",
       "      <th></th>\n",
       "      <th>id</th>\n",
       "      <th>title</th>\n",
       "      <th>content</th>\n",
       "      <th>tags</th>\n",
       "    </tr>\n",
       "  </thead>\n",
       "  <tbody>\n",
       "    <tr>\n",
       "      <th>0</th>\n",
       "      <td>3</td>\n",
       "      <td>What are the benefits of the two permutation t...</td>\n",
       "      <td>&lt;p&gt;Why do we use a permutation table in the fi...</td>\n",
       "      <td>block-cipher des permutation</td>\n",
       "    </tr>\n",
       "    <tr>\n",
       "      <th>1</th>\n",
       "      <td>7</td>\n",
       "      <td>Why use a 1-2 Oblivious Transfer instead of a ...</td>\n",
       "      <td>&lt;p&gt;When initiating an &lt;a href=\"http://en.wikip...</td>\n",
       "      <td>oblivious-transfer multiparty-computation func...</td>\n",
       "    </tr>\n",
       "    <tr>\n",
       "      <th>2</th>\n",
       "      <td>8</td>\n",
       "      <td>Why do we append the length of the message in ...</td>\n",
       "      <td>&lt;p&gt;As we know, &lt;a href=\"http://en.wikipedia.or...</td>\n",
       "      <td>sha-1 hash</td>\n",
       "    </tr>\n",
       "    <tr>\n",
       "      <th>3</th>\n",
       "      <td>9</td>\n",
       "      <td>What is the general justification for the hard...</td>\n",
       "      <td>&lt;p&gt;Since most cryptographic hash functions are...</td>\n",
       "      <td>hash cryptanalysis preimage-resistance</td>\n",
       "    </tr>\n",
       "    <tr>\n",
       "      <th>4</th>\n",
       "      <td>14</td>\n",
       "      <td>How can I use asymmetric encryption, such as R...</td>\n",
       "      <td>&lt;p&gt;RSA is not designed to be used on long bloc...</td>\n",
       "      <td>encryption rsa public-key</td>\n",
       "    </tr>\n",
       "  </tbody>\n",
       "</table>\n",
       "</div>"
      ],
      "text/plain": [
       "   id                                              title  \\\n",
       "0   3  What are the benefits of the two permutation t...   \n",
       "1   7  Why use a 1-2 Oblivious Transfer instead of a ...   \n",
       "2   8  Why do we append the length of the message in ...   \n",
       "3   9  What is the general justification for the hard...   \n",
       "4  14  How can I use asymmetric encryption, such as R...   \n",
       "\n",
       "                                             content  \\\n",
       "0  <p>Why do we use a permutation table in the fi...   \n",
       "1  <p>When initiating an <a href=\"http://en.wikip...   \n",
       "2  <p>As we know, <a href=\"http://en.wikipedia.or...   \n",
       "3  <p>Since most cryptographic hash functions are...   \n",
       "4  <p>RSA is not designed to be used on long bloc...   \n",
       "\n",
       "                                                tags  \n",
       "0                       block-cipher des permutation  \n",
       "1  oblivious-transfer multiparty-computation func...  \n",
       "2                                         sha-1 hash  \n",
       "3             hash cryptanalysis preimage-resistance  \n",
       "4                          encryption rsa public-key  "
      ]
     },
     "execution_count": 6,
     "metadata": {},
     "output_type": "execute_result"
    }
   ],
   "source": [
    "train.head()"
   ]
  },
  {
   "cell_type": "code",
   "execution_count": 7,
   "metadata": {
    "_uuid": "434572be0a462f6f57520b91e65dcbfb82ea747c"
   },
   "outputs": [
    {
     "data": {
      "text/html": [
       "<div>\n",
       "<style scoped>\n",
       "    .dataframe tbody tr th:only-of-type {\n",
       "        vertical-align: middle;\n",
       "    }\n",
       "\n",
       "    .dataframe tbody tr th {\n",
       "        vertical-align: top;\n",
       "    }\n",
       "\n",
       "    .dataframe thead th {\n",
       "        text-align: right;\n",
       "    }\n",
       "</style>\n",
       "<table border=\"1\" class=\"dataframe\">\n",
       "  <thead>\n",
       "    <tr style=\"text-align: right;\">\n",
       "      <th></th>\n",
       "      <th>id</th>\n",
       "      <th>title</th>\n",
       "      <th>content</th>\n",
       "      <th>tags</th>\n",
       "    </tr>\n",
       "  </thead>\n",
       "  <tbody>\n",
       "    <tr>\n",
       "      <th>6528</th>\n",
       "      <td>26169</td>\n",
       "      <td>How to generate new LWE samples</td>\n",
       "      <td>&lt;p&gt;Assume we are given a small fixed number of...</td>\n",
       "      <td>lattice-crypto</td>\n",
       "    </tr>\n",
       "    <tr>\n",
       "      <th>6529</th>\n",
       "      <td>26170</td>\n",
       "      <td>Physical entropy source: How many bits entropy...</td>\n",
       "      <td>&lt;p&gt;8 bit / byte  would be perfect obviously.&lt;/...</td>\n",
       "      <td>random-number-generator entropy cryptographic-...</td>\n",
       "    </tr>\n",
       "    <tr>\n",
       "      <th>6530</th>\n",
       "      <td>26172</td>\n",
       "      <td>Some doubts about GnuPG</td>\n",
       "      <td>&lt;p&gt;I've reading on GPG since yesterday and I h...</td>\n",
       "      <td>public-key pgp</td>\n",
       "    </tr>\n",
       "    <tr>\n",
       "      <th>6531</th>\n",
       "      <td>26177</td>\n",
       "      <td>Converting ECC Code from python to Java. Exten...</td>\n",
       "      <td>&lt;p&gt;I'm in the process of converting a Python p...</td>\n",
       "      <td>elliptic-curves dsa java bitcoin</td>\n",
       "    </tr>\n",
       "    <tr>\n",
       "      <th>6532</th>\n",
       "      <td>26186</td>\n",
       "      <td>Is there a cryptographic algorithm which is im...</td>\n",
       "      <td>&lt;p&gt;Is there any cryptographic algorithm immune...</td>\n",
       "      <td>cryptographic-hardware side-channel-attack</td>\n",
       "    </tr>\n",
       "  </tbody>\n",
       "</table>\n",
       "</div>"
      ],
      "text/plain": [
       "         id                                              title  \\\n",
       "6528  26169                    How to generate new LWE samples   \n",
       "6529  26170  Physical entropy source: How many bits entropy...   \n",
       "6530  26172                            Some doubts about GnuPG   \n",
       "6531  26177  Converting ECC Code from python to Java. Exten...   \n",
       "6532  26186  Is there a cryptographic algorithm which is im...   \n",
       "\n",
       "                                                content  \\\n",
       "6528  <p>Assume we are given a small fixed number of...   \n",
       "6529  <p>8 bit / byte  would be perfect obviously.</...   \n",
       "6530  <p>I've reading on GPG since yesterday and I h...   \n",
       "6531  <p>I'm in the process of converting a Python p...   \n",
       "6532  <p>Is there any cryptographic algorithm immune...   \n",
       "\n",
       "                                                   tags  \n",
       "6528                                     lattice-crypto  \n",
       "6529  random-number-generator entropy cryptographic-...  \n",
       "6530                                     public-key pgp  \n",
       "6531                   elliptic-curves dsa java bitcoin  \n",
       "6532         cryptographic-hardware side-channel-attack  "
      ]
     },
     "execution_count": 7,
     "metadata": {},
     "output_type": "execute_result"
    }
   ],
   "source": [
    "test.head()"
   ]
  },
  {
   "cell_type": "code",
   "execution_count": 8,
   "metadata": {
    "_uuid": "7e7c07415f19f8ef175859d6d378fa71f20a43a9"
   },
   "outputs": [],
   "source": [
    "X_train, y_train = train['title'].values, train['tags'].values\n",
    "X_val, y_val = validation['title'].values, validation['tags'].values\n",
    "X_test = test['title'].values"
   ]
  },
  {
   "cell_type": "code",
   "execution_count": 9,
   "metadata": {
    "_uuid": "1a44209b8eeeb781b6d2d592b4d9e5846e3b587c"
   },
   "outputs": [
    {
     "data": {
      "text/plain": [
       "'oblivious-transfer multiparty-computation function-evaluation'"
      ]
     },
     "execution_count": 9,
     "metadata": {},
     "output_type": "execute_result"
    }
   ],
   "source": [
    "y_train[1]"
   ]
  },
  {
   "cell_type": "code",
   "execution_count": 10,
   "metadata": {
    "_uuid": "e1d92189d0e832b03e99604ddab5ad6551f6dab8"
   },
   "outputs": [],
   "source": [
    "import re"
   ]
  },
  {
   "cell_type": "code",
   "execution_count": 11,
   "metadata": {
    "_uuid": "62459fd06eb930749b9f5b6905bd505e2998a7e7"
   },
   "outputs": [],
   "source": [
    "REPLACE_BY_SPACE_RE = re.compile('[/(){}\\[\\]\\|@,;]')\n",
    "BAD_SYMBOLS_RE = re.compile('[^0-9a-z #+_]')\n",
    "STOPWORDS = set(stopwords.words('english'))\n",
    "\n",
    "def text_prepare(text):\n",
    "    text = text.lower()\n",
    "    text = REPLACE_BY_SPACE_RE.sub(' ', text)\n",
    "    text = BAD_SYMBOLS_RE.sub('', text)\n",
    "    text = ' '.join(word for word in text.split() if word not in STOPWORDS)\n",
    "    #print(text)\n",
    "    return text"
   ]
  },
  {
   "cell_type": "code",
   "execution_count": 12,
   "metadata": {
    "_uuid": "fa44651202a367dcfbd1817ab638e10b6bbc12f0"
   },
   "outputs": [],
   "source": [
    "# prepared_questions = []\n",
    "# for line in open('text_prepare_tests.tsv', encoding='utf-8'):\n",
    "#     line = text_prepare(line.strip())\n",
    "#     prepared_questions.append(line)\n",
    "# text_prepare_results = '\\n'.join(prepared_questions)"
   ]
  },
  {
   "cell_type": "code",
   "execution_count": 13,
   "metadata": {
    "_uuid": "c9e303d8c6d5ba8754b67878f014cbfb9de3fc67"
   },
   "outputs": [],
   "source": [
    "X_train = [text_prepare(x) for x in X_train]\n",
    "X_val = [text_prepare(x) for x in X_val]\n",
    "X_test = [text_prepare(x) for x in X_test]"
   ]
  },
  {
   "cell_type": "code",
   "execution_count": 14,
   "metadata": {
    "_uuid": "7517235bc286f290c01f373ab158e30a183ad44c"
   },
   "outputs": [
    {
     "data": {
      "text/plain": [
       "array(['block-cipher des permutation',\n",
       "       'oblivious-transfer multiparty-computation function-evaluation',\n",
       "       'sha-1 hash'], dtype=object)"
      ]
     },
     "execution_count": 14,
     "metadata": {},
     "output_type": "execute_result"
    }
   ],
   "source": [
    "y_train[:3]"
   ]
  },
  {
   "cell_type": "code",
   "execution_count": 15,
   "metadata": {
    "_uuid": "5c54dca0249e38186269ca87571863b63eccdedc"
   },
   "outputs": [],
   "source": [
    "from collections import defaultdict\n",
    "tags_counts = defaultdict(int)\n",
    "words_counts = defaultdict(int)\n",
    "tmp=[]\n",
    "\n",
    "for tags in y_train:\n",
    "    tt = tags.split()\n",
    "    tmp.append(tt)\n",
    "    for tag in tt:\n",
    "        #print(tag)\n",
    "        tags_counts[tag] += 1\n",
    "y_train=tmp\n",
    "tmp=[]\n",
    "\n",
    "for text in X_train:\n",
    "    for word in text.split():\n",
    "        #print(word)\n",
    "        words_counts[word] += 1\n",
    "        \n",
    "for tags in y_val:\n",
    "    tt = tags.split()\n",
    "    tmp.append(tt)\n",
    "    for tag in tt:\n",
    "        #print(tag)\n",
    "        tags_counts[tag] += 1\n",
    "y_val=tmp\n",
    "tmp=[]\n",
    "for text in X_val:\n",
    "    for word in text.split():\n",
    "        #print(word)\n",
    "        words_counts[word] += 1\n",
    "  "
   ]
  },
  {
   "cell_type": "code",
   "execution_count": null,
   "metadata": {},
   "outputs": [],
   "source": [
    "most_common_tags = sorted(tags_counts.items(), key=lambda x: x[1], reverse=True)[:10]\n",
    "most_common_words = sorted(words_counts.items(), key=lambda x: x[1], reverse=True)[:3]"
   ]
  },
  {
   "cell_type": "code",
   "execution_count": 16,
   "metadata": {
    "scrolled": true
   },
   "outputs": [
    {
     "ename": "NameError",
     "evalue": "name 'most_common_words' is not defined",
     "output_type": "error",
     "traceback": [
      "\u001b[1;31m---------------------------------------------------------------------------\u001b[0m",
      "\u001b[1;31mNameError\u001b[0m                                 Traceback (most recent call last)",
      "\u001b[1;32m<ipython-input-16-4821fd07389e>\u001b[0m in \u001b[0;36m<module>\u001b[1;34m()\u001b[0m\n\u001b[1;32m----> 1\u001b[1;33m \u001b[0mmost_common_words\u001b[0m\u001b[1;33m\u001b[0m\u001b[0m\n\u001b[0m",
      "\u001b[1;31mNameError\u001b[0m: name 'most_common_words' is not defined"
     ]
    }
   ],
   "source": [
    "most_common_words"
   ]
  },
  {
   "cell_type": "code",
   "execution_count": null,
   "metadata": {},
   "outputs": [],
   "source": [
    "most_common_tags"
   ]
  },
  {
   "cell_type": "code",
   "execution_count": null,
   "metadata": {
    "_uuid": "1a8543abbd24292be2672fdb6d1a77397bb553ac"
   },
   "outputs": [],
   "source": [
    "from scipy import sparse as sp_sparse\n",
    "from sklearn.feature_extraction.text import TfidfVectorizer"
   ]
  },
  {
   "cell_type": "code",
   "execution_count": null,
   "metadata": {
    "_uuid": "efd522df70b51cde884d7640131b3dbcabb6fadc"
   },
   "outputs": [],
   "source": [
    "??TfidVectorizer"
   ]
  },
  {
   "cell_type": "code",
   "execution_count": null,
   "metadata": {},
   "outputs": [],
   "source": [
    "#X_val"
   ]
  },
  {
   "cell_type": "code",
   "execution_count": null,
   "metadata": {
    "_uuid": "9a88f397420f399b3e6fbc7afa74cdbe3aedd196"
   },
   "outputs": [],
   "source": [
    "tfidf_vectorizer = TfidfVectorizer(min_df=5, max_df=0.9, ngram_range=(1, 2),token_pattern='(\\S+)')\n",
    "X_train_tfidf = tfidf_vectorizer.fit_transform(X_train)\n",
    "X_val_tfidf = tfidf_vectorizer.transform(X_val)\n",
    "X_test_tfidf = tfidf_vectorizer.transform(X_test)\n",
    "tfidf_vocab = tfidf_vectorizer.vocabulary_\n",
    "#X_train_tfidf, X_val_tfidf, X_test_tfidf, tfidf_vocab = tfidf_features(X_train, X_val, X_test)\n"
   ]
  },
  {
   "cell_type": "code",
   "execution_count": null,
   "metadata": {},
   "outputs": [],
   "source": [
    "tfidf_reversed_vocab = {i:word for word,i in tfidf_vocab.items()}"
   ]
  },
  {
   "cell_type": "code",
   "execution_count": null,
   "metadata": {
    "_uuid": "831b4308bc8ffd086f9f25d68143f8b25b40f2b0"
   },
   "outputs": [],
   "source": [
    "tfidf_vocab['make']"
   ]
  },
  {
   "cell_type": "code",
   "execution_count": null,
   "metadata": {
    "_uuid": "1572b9747b1c4b3ecc92b0e389886c255443ddc4"
   },
   "outputs": [],
   "source": [
    "from sklearn.preprocessing import MultiLabelBinarizer"
   ]
  },
  {
   "cell_type": "code",
   "execution_count": null,
   "metadata": {},
   "outputs": [],
   "source": [
    "tags_counts.keys()"
   ]
  },
  {
   "cell_type": "code",
   "execution_count": null,
   "metadata": {},
   "outputs": [],
   "source": [
    "y_val"
   ]
  },
  {
   "cell_type": "code",
   "execution_count": null,
   "metadata": {
    "_uuid": "883b54957e5154072f0b8e59af2a6f2a605100b6"
   },
   "outputs": [],
   "source": [
    "mlb = MultiLabelBinarizer(classes=sorted(tags_counts.keys()))\n",
    "y_train = mlb.fit_transform(y_train)\n",
    "y_val = mlb.fit_transform(y_val)"
   ]
  },
  {
   "cell_type": "code",
   "execution_count": null,
   "metadata": {},
   "outputs": [],
   "source": [
    "y_train.shape"
   ]
  },
  {
   "cell_type": "code",
   "execution_count": null,
   "metadata": {
    "_uuid": "ad082a14ca42fe901094549641f0145ac7e614e4"
   },
   "outputs": [],
   "source": []
  },
  {
   "cell_type": "markdown",
   "metadata": {
    "_uuid": "0e82de6ba1acfb9f3e5c1b170778e084bd0c3f56"
   },
   "source": [
    "Train the classifiers for different data transformations: *bag-of-words* and *tf-idf*."
   ]
  },
  {
   "cell_type": "code",
   "execution_count": null,
   "metadata": {
    "_uuid": "da51fd4837e79c96214d3e704749ec52ea26265c"
   },
   "outputs": [],
   "source": [
    "%%time\n",
    "from sklearn.multiclass import OneVsRestClassifier\n",
    "from sklearn.linear_model import LogisticRegression, RidgeClassifier\n",
    "clf = OneVsRestClassifier(RidgeClassifier(normalize=True))\n",
    "clf.fit(X_train_tfidf, y_train)\n",
    "# classifier_tfidf = train_classifier(X_train_tfidf, y_train)"
   ]
  },
  {
   "cell_type": "markdown",
   "metadata": {
    "_uuid": "294bf367ca93a0afd8c85d4169c3f871e2fe6e3b"
   },
   "source": [
    "Now you can create predictions for the data. You will need two types of predictions: labels and scores."
   ]
  },
  {
   "cell_type": "code",
   "execution_count": null,
   "metadata": {
    "_uuid": "b06fddc6e21bb9cdedc31c67b990ced1d804151b"
   },
   "outputs": [],
   "source": [
    "%%time\n",
    "y_val_predicted_labels_tfidf = clf.predict(X_val_tfidf)\n",
    "# y_val_predicted_scores_tfidf = classifier_tfidf.decision_function(X_val_tfidf)"
   ]
  },
  {
   "cell_type": "markdown",
   "metadata": {
    "_uuid": "be149cae5b6dd54ca752f27ba075ee11198cdd7f"
   },
   "source": [
    "Now take a look at how classifier, which uses TF-IDF, works for a few examples:"
   ]
  },
  {
   "cell_type": "code",
   "execution_count": null,
   "metadata": {
    "_uuid": "a03c639ec8f26ea6c0b925d52a7f39913c8dc4b1"
   },
   "outputs": [],
   "source": [
    "que = ['How do I stop pasta from clumping/sticking together?','What is a stick of butter?','how to do tadka in daal?', 'how to make chocolate brownie?']\n",
    "que = [text_prepare(i) for i in que]\n",
    "# que = [que]\n",
    "que = tfidf_vectorizer.transform(que)\n",
    "yp = clf.predict(que)\n",
    "print(mlb.inverse_transform(yp))"
   ]
  },
  {
   "cell_type": "code",
   "execution_count": null,
   "metadata": {
    "_uuid": "aeb425243ed23547f0a0cf5fa674edf04a9b7ba5"
   },
   "outputs": [],
   "source": [
    "import pickle\n",
    "import os \n",
    "pickle.dump(clf, open('model-crypto.pkl', 'wb'))\n",
    "pickle.dump(mlb, open('tags-crypto.pkl', 'wb'))\n",
    "pickle.dump(tfidf_vectorizer, open('tf-crypto.pkl', 'wb'))"
   ]
  },
  {
   "cell_type": "code",
   "execution_count": null,
   "metadata": {
    "_uuid": "0b6c74e392f92508b53c4b2b5c8ab3b7506d2e68"
   },
   "outputs": [],
   "source": []
  }
 ],
 "metadata": {
  "kernelspec": {
   "display_name": "Python 3",
   "language": "python",
   "name": "python3"
  },
  "language_info": {
   "codemirror_mode": {
    "name": "ipython",
    "version": 3
   },
   "file_extension": ".py",
   "mimetype": "text/x-python",
   "name": "python",
   "nbconvert_exporter": "python",
   "pygments_lexer": "ipython3",
   "version": "3.6.6"
  },
  "varInspector": {
   "cols": {
    "lenName": 16,
    "lenType": 16,
    "lenVar": 40
   },
   "kernels_config": {
    "python": {
     "delete_cmd_postfix": "",
     "delete_cmd_prefix": "del ",
     "library": "var_list.py",
     "varRefreshCmd": "print(var_dic_list())"
    },
    "r": {
     "delete_cmd_postfix": ") ",
     "delete_cmd_prefix": "rm(",
     "library": "var_list.r",
     "varRefreshCmd": "cat(var_dic_list()) "
    }
   },
   "types_to_exclude": [
    "module",
    "function",
    "builtin_function_or_method",
    "instance",
    "_Feature"
   ],
   "window_display": false
  }
 },
 "nbformat": 4,
 "nbformat_minor": 1
}
