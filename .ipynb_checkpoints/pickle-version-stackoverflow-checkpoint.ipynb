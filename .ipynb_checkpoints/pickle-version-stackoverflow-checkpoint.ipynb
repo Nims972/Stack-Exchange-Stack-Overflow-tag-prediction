{
 "cells": [
  {
   "cell_type": "code",
   "execution_count": 1,
   "metadata": {
    "_cell_guid": "b1076dfc-b9ad-4769-8c92-a6c4dae69d19",
    "_uuid": "8f2839f25d086af736a60e9eeb907d3b93b6e0e5"
   },
   "outputs": [],
   "source": [
    "import numpy as np\n",
    "import pandas as pd\n",
    "import pickle\n",
    "import os\n",
    "from sklearn.externals import joblib"
   ]
  },
  {
   "cell_type": "code",
   "execution_count": 2,
   "metadata": {
    "_cell_guid": "79c7e3d0-c299-4dcb-8224-4455121ee9b0",
    "_uuid": "d629ff2d2480ee46fbb7e2d37f6b5fab8052498a"
   },
   "outputs": [],
   "source": [
    "model_cooking = open(\"model-cooking.pkl\",\"rb\")\n",
    "clf_cooking = joblib.load(model_cooking)\n",
    "model_crypto = open(\"model-crypto.pkl\",\"rb\")\n",
    "clf_crypto = joblib.load(model_crypto)"
   ]
  },
  {
   "cell_type": "code",
   "execution_count": 6,
   "metadata": {
    "_uuid": "10fecee171d79351681f67993e2e303b7e1a9f62"
   },
   "outputs": [],
   "source": [
    "tags_p_cooking = open(\"tags-cooking.pkl\",\"rb\")\n",
    "tags_cooking = joblib.load(tags_p_cooking)\n",
    "tags_p_crypto = open(\"tags-crypto.pkl\",\"rb\")\n",
    "tags_crypto = joblib.load(tags_p_crypto)"
   ]
  },
  {
   "cell_type": "code",
   "execution_count": 7,
   "metadata": {
    "_uuid": "280cc2ac3fb742c62b677a32eb8fc2e55b2c10ae"
   },
   "outputs": [],
   "source": [
    "tf_p_cooking = open(\"tf-cooking.pkl\",\"rb\")\n",
    "tf_cooking = joblib.load(tf_p_cooking)\n",
    "tf_p_crypto = open(\"tf-crypto.pkl\",\"rb\")\n",
    "tf_crypto = joblib.load(tf_p_crypto)"
   ]
  },
  {
   "cell_type": "code",
   "execution_count": 8,
   "metadata": {
    "_uuid": "e441d1c5014279eef6dfcf70f0be226b33e60d20"
   },
   "outputs": [],
   "source": [
    "import nltk\n",
    "import re\n",
    "from nltk.corpus import stopwords\n",
    "REPLACE_BY_SPACE_RE = re.compile('[/(){}\\[\\]\\|@,;]')\n",
    "BAD_SYMBOLS_RE = re.compile('[^0-9a-z #+_]')\n",
    "STOPWORDS = set(stopwords.words('english'))\n",
    "\n",
    "def text_prepare(text):\n",
    "    text = text.lower()\n",
    "    text = REPLACE_BY_SPACE_RE.sub(' ', text)\n",
    "    text = BAD_SYMBOLS_RE.sub('', text)\n",
    "    text = ' '.join(word for word in text.split() if word not in STOPWORDS)\n",
    "    return text"
   ]
  },
  {
   "cell_type": "code",
   "execution_count": 9,
   "metadata": {
    "_uuid": "a2ad66d093e5aff804f283f7e15c14dccb5fbfcc"
   },
   "outputs": [
    {
     "name": "stdout",
     "output_type": "stream",
     "text": [
      "[('baking', 'brownies'), ('baking',), ()]\n"
     ]
    }
   ],
   "source": [
    "que = ['How to make Brownie?','how to bake ? ','how much time require to prepare maggie ?']\n",
    "que = [text_prepare(i) for i in que]\n",
    "# que = [que]\n",
    "que = tf.transform(que)\n",
    "yp = clf.predict(que)\n",
    "print(tags.inverse_transform(yp))"
   ]
  },
  {
   "cell_type": "code",
   "execution_count": 10,
   "metadata": {
    "_uuid": "6dfef49771c4dde7b332d6cf9dd59ec9bc3afac3"
   },
   "outputs": [],
   "source": [
    "# from flask import Flask, render_template, request,flash,jsonify\n",
    "# app = Flask(__name__)\n",
    "# @app.route('/<string:que>')\n",
    "# def index(que):\n",
    "#     print(que)\n",
    "#     que = [que]\n",
    "#     que = [text_prepare(i) for i in que]\n",
    "#     que = tf.transform(que)\n",
    "#     yp = clf.predict(que)\n",
    "#     pred = tags.inverse_transform(yp)\n",
    "#     data = []\n",
    "#     for i in range(len(pred[0])):\n",
    "#         data.append(pred[0][i])\n",
    "#     #print(tags.inverse_transform(yp)[0][0],len(tags.inverse_transform(yp)[0]))\n",
    "#     res = {'tags' : data}\n",
    "#     return jsonify(res)\n",
    "#     #return render_template('layout.html', tags=(tags.inverse_transform(yp)))\n",
    "\n",
    "# if __name__ == '__main__':\n",
    "#     app.run()"
   ]
  },
  {
   "cell_type": "code",
   "execution_count": null,
   "metadata": {},
   "outputs": [
    {
     "name": "stdout",
     "output_type": "stream",
     "text": [
      " * Serving Flask app \"__main__\" (lazy loading)\n",
      " * Environment: production\n",
      "   WARNING: Do not use the development server in a production environment.\n",
      "   Use a production WSGI server instead.\n",
      " * Debug mode: off\n"
     ]
    },
    {
     "name": "stderr",
     "output_type": "stream",
     "text": [
      " * Running on http://127.0.0.1:5000/ (Press CTRL+C to quit)\n",
      "127.0.0.1 - - [12/Apr/2019 02:24:32] \"\u001b[37mGET /cooking.stackexchange.com/how%20to%20make%20brownie HTTP/1.1\u001b[0m\" 200 -\n"
     ]
    },
    {
     "name": "stdout",
     "output_type": "stream",
     "text": [
      "how to make brownie\n"
     ]
    }
   ],
   "source": [
    "from flask import Flask, render_template, request,flash,jsonify\n",
    "app = Flask(__name__)\n",
    "@app.route('/cooking.stackexchange.com/<string:que>')\n",
    "def index(que):\n",
    "    print(que)\n",
    "    que\n",
    "    que = [que]\n",
    "    que = [text_prepare(i) for i in que]\n",
    "    que = tf.transform(que)\n",
    "    yp = clf.predict(que)\n",
    "    pred = tags.inverse_transform(yp)\n",
    "    data = []\n",
    "    html = ''\n",
    "    for i in range(len(pred[0])):\n",
    "        data.append(pred[0][i])\n",
    "        html += data[i]\n",
    "        html += ','\n",
    "    #print(tags.inverse_transform(yp)[0][0],len(tags.inverse_transform(yp)[0]))\n",
    "    res = {'tags' : data}\n",
    "    return html\n",
    "    #return render_template('layout.html', tags=(tags.inverse_transform(yp)))\n",
    "\n",
    "if __name__ == '__main__':\n",
    "    app.run()"
   ]
  },
  {
   "cell_type": "code",
   "execution_count": null,
   "metadata": {},
   "outputs": [],
   "source": []
  }
 ],
 "metadata": {
  "kernelspec": {
   "display_name": "Python 3",
   "language": "python",
   "name": "python3"
  },
  "language_info": {
   "codemirror_mode": {
    "name": "ipython",
    "version": 3
   },
   "file_extension": ".py",
   "mimetype": "text/x-python",
   "name": "python",
   "nbconvert_exporter": "python",
   "pygments_lexer": "ipython3",
   "version": "3.6.6"
  },
  "varInspector": {
   "cols": {
    "lenName": 16,
    "lenType": 16,
    "lenVar": 40
   },
   "kernels_config": {
    "python": {
     "delete_cmd_postfix": "",
     "delete_cmd_prefix": "del ",
     "library": "var_list.py",
     "varRefreshCmd": "print(var_dic_list())"
    },
    "r": {
     "delete_cmd_postfix": ") ",
     "delete_cmd_prefix": "rm(",
     "library": "var_list.r",
     "varRefreshCmd": "cat(var_dic_list()) "
    }
   },
   "types_to_exclude": [
    "module",
    "function",
    "builtin_function_or_method",
    "instance",
    "_Feature"
   ],
   "window_display": false
  }
 },
 "nbformat": 4,
 "nbformat_minor": 1
}
