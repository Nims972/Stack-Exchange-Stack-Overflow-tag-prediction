{
 "cells": [
  {
   "cell_type": "code",
   "execution_count": 1,
   "metadata": {
    "_cell_guid": "b1076dfc-b9ad-4769-8c92-a6c4dae69d19",
    "_uuid": "8f2839f25d086af736a60e9eeb907d3b93b6e0e5"
   },
   "outputs": [],
   "source": [
    "import numpy as np\n",
    "import pandas as pd\n",
    "import pickle\n",
    "import os\n",
    "from sklearn.externals import joblib"
   ]
  },
  {
   "cell_type": "code",
   "execution_count": 2,
   "metadata": {
    "_cell_guid": "79c7e3d0-c299-4dcb-8224-4455121ee9b0",
    "_uuid": "d629ff2d2480ee46fbb7e2d37f6b5fab8052498a"
   },
   "outputs": [],
   "source": [
    "model_cooking = open(\"cooking/model-cooking.pkl\",\"rb\")\n",
    "clf_cooking = joblib.load(model_cooking)\n",
    "model_crypto = open(\"crypto/model-crypto.pkl\",\"rb\")\n",
    "clf_crypto = joblib.load(model_crypto)\n",
    "model_diy = open(\"diy/model-diy.pkl\",\"rb\")\n",
    "clf_diy = joblib.load(model_diy)\n",
    "model_robotics = open(\"robotics/model-robotics.pkl\",\"rb\")\n",
    "clf_robotics = joblib.load(model_robotics)\n",
    "model_travel = open(\"travel/model-travel.pkl\",\"rb\")\n",
    "clf_travel = joblib.load(model_travel)\n",
    "model_biology = open(\"biology/model-biology.pkl\",\"rb\")\n",
    "clf_biology = joblib.load(model_biology)\n",
    "\n",
    "model_stackoverflow = open(\"model.pkl\",\"rb\")\n",
    "clf_stackoverflow = joblib.load(model_stackoverflow)"
   ]
  },
  {
   "cell_type": "code",
   "execution_count": 3,
   "metadata": {
    "_uuid": "10fecee171d79351681f67993e2e303b7e1a9f62"
   },
   "outputs": [],
   "source": [
    "tags_p_cooking = open(\"cooking/tags-cooking.pkl\",\"rb\")\n",
    "tags_cooking = joblib.load(tags_p_cooking)\n",
    "tags_p_crypto = open(\"crypto/tags-crypto.pkl\",\"rb\")\n",
    "tags_crypto = joblib.load(tags_p_crypto)\n",
    "tags_p_diy = open(\"diy/tags-diy.pkl\",\"rb\")\n",
    "tags_diy = joblib.load(tags_p_diy)\n",
    "tags_p_robotics = open(\"robotics/tags-robotics.pkl\",\"rb\")\n",
    "tags_robotics = joblib.load(tags_p_robotics)\n",
    "tags_p_travel = open(\"travel/tags-travel.pkl\",\"rb\")\n",
    "tags_travel = joblib.load(tags_p_travel)\n",
    "tags_p_biology = open(\"biology/tags-biology.pkl\",\"rb\")\n",
    "tags_biology = joblib.load(tags_p_biology)\n",
    "\n",
    "tags_p_stackoverflow = open(\"tags.pkl\",\"rb\")\n",
    "tags_stackoverflow = joblib.load(tags_p_stackoverflow)"
   ]
  },
  {
   "cell_type": "code",
   "execution_count": 4,
   "metadata": {
    "_uuid": "280cc2ac3fb742c62b677a32eb8fc2e55b2c10ae"
   },
   "outputs": [],
   "source": [
    "tf_p_cooking = open(\"cooking/tf-cooking.pkl\",\"rb\")\n",
    "tf_cooking = joblib.load(tf_p_cooking)\n",
    "tf_p_crypto = open(\"crypto/tf-crypto.pkl\",\"rb\")\n",
    "tf_crypto = joblib.load(tf_p_crypto)\n",
    "tf_p_diy = open(\"diy/tf-diy.pkl\",\"rb\")\n",
    "tf_diy = joblib.load(tf_p_diy)\n",
    "tf_p_robotics = open(\"robotics/tf-robotics.pkl\",\"rb\")\n",
    "tf_robotics = joblib.load(tf_p_robotics)\n",
    "tf_p_travel = open(\"travel/tf-travel.pkl\",\"rb\")\n",
    "tf_travel = joblib.load(tf_p_travel)\n",
    "tf_p_biology = open(\"biology/tf-biology.pkl\",\"rb\")\n",
    "tf_biology = joblib.load(tf_p_biology)\n",
    "\n",
    "tf_p_stackoverflow = open(\"tf.pkl\",\"rb\")\n",
    "tf_stackoverflow = joblib.load(tf_p_stackoverflow)\n"
   ]
  },
  {
   "cell_type": "code",
   "execution_count": 5,
   "metadata": {
    "_uuid": "e441d1c5014279eef6dfcf70f0be226b33e60d20"
   },
   "outputs": [],
   "source": [
    "import nltk\n",
    "import re\n",
    "from nltk.corpus import stopwords\n",
    "REPLACE_BY_SPACE_RE = re.compile('[/(){}\\[\\]\\|@,;]')\n",
    "BAD_SYMBOLS_RE = re.compile('[^0-9a-z #+_]')\n",
    "STOPWORDS = set(stopwords.words('english'))\n",
    "\n",
    "def text_prepare(text):\n",
    "    text = text.lower()\n",
    "    text = REPLACE_BY_SPACE_RE.sub(' ', text)\n",
    "    text = BAD_SYMBOLS_RE.sub('', text)\n",
    "    text = ' '.join(word for word in text.split() if word not in STOPWORDS)\n",
    "    return text"
   ]
  },
  {
   "cell_type": "code",
   "execution_count": 6,
   "metadata": {
    "_uuid": "a2ad66d093e5aff804f283f7e15c14dccb5fbfcc"
   },
   "outputs": [
    {
     "name": "stdout",
     "output_type": "stream",
     "text": [
      "[('baking', 'brownies'), ('baking',), ()]\n"
     ]
    }
   ],
   "source": [
    "que = ['How to make Brownie?','how to bake ? ','how much time require to prepare maggie ?']\n",
    "que = [text_prepare(i) for i in que]\n",
    "# que = [que]\n",
    "que = tf_cooking.transform(que)\n",
    "yp = clf_cooking.predict(que)\n",
    "print(tags_cooking.inverse_transform(yp))"
   ]
  },
  {
   "cell_type": "code",
   "execution_count": null,
   "metadata": {
    "_uuid": "6dfef49771c4dde7b332d6cf9dd59ec9bc3afac3"
   },
   "outputs": [],
   "source": [
    "# from flask import Flask, render_template, request,flash,jsonify\n",
    "# app = Flask(__name__)\n",
    "# @app.route('/<string:que>')\n",
    "# def index(que):\n",
    "#     print(que)\n",
    "#     que = [que]\n",
    "#     que = [text_prepare(i) for i in que]\n",
    "#     que = tf.transform(que)\n",
    "#     yp = clf.predict(que)\n",
    "#     pred = tags.inverse_transform(yp)\n",
    "#     data = []\n",
    "#     for i in range(len(pred[0])):\n",
    "#         data.append(pred[0][i])\n",
    "#     #print(tags.inverse_transform(yp)[0][0],len(tags.inverse_transform(yp)[0]))\n",
    "#     res = {'tags' : data}\n",
    "#     return jsonify(res)\n",
    "#     #return render_template('layout.html', tags=(tags.inverse_transform(yp)))\n",
    "\n",
    "# if __name__ == '__main__':\n",
    "#     app.run()"
   ]
  },
  {
   "cell_type": "code",
   "execution_count": null,
   "metadata": {},
   "outputs": [
    {
     "name": "stdout",
     "output_type": "stream",
     "text": [
      " * Serving Flask app \"__main__\" (lazy loading)\n",
      " * Environment: production\n",
      "   WARNING: Do not use the development server in a production environment.\n",
      "   Use a production WSGI server instead.\n",
      " * Debug mode: off\n"
     ]
    },
    {
     "name": "stderr",
     "output_type": "stream",
     "text": [
      " * Running on http://127.0.0.1:5000/ (Press CTRL+C to quit)\n",
      "127.0.0.1 - - [12/Apr/2019 13:58:32] \"\u001b[37mGET /stackoverflow.com/how%20to%20implement%20transaction%20in%20hibernate HTTP/1.1\u001b[0m\" 200 -\n"
     ]
    },
    {
     "name": "stdout",
     "output_type": "stream",
     "text": [
      "how to implement transaction in hibernate\n"
     ]
    },
    {
     "name": "stderr",
     "output_type": "stream",
     "text": [
      "127.0.0.1 - - [12/Apr/2019 14:00:26] \"\u001b[37mGET /travel.stackexchange.com/places%20to%20visit%20in%20silion%20valley HTTP/1.1\u001b[0m\" 200 -\n"
     ]
    },
    {
     "name": "stdout",
     "output_type": "stream",
     "text": [
      "places to visit in silion valley\n"
     ]
    },
    {
     "name": "stderr",
     "output_type": "stream",
     "text": [
      "127.0.0.1 - - [12/Apr/2019 14:02:25] \"\u001b[37mGET /robotics.stackexchange.com/how%20to%20make%20nao%20robot HTTP/1.1\u001b[0m\" 200 -\n"
     ]
    },
    {
     "name": "stdout",
     "output_type": "stream",
     "text": [
      "how to make nao robot\n"
     ]
    },
    {
     "name": "stderr",
     "output_type": "stream",
     "text": [
      "127.0.0.1 - - [12/Apr/2019 14:04:16] \"\u001b[37mGET /stackoverflow.com/quntum%20computing HTTP/1.1\u001b[0m\" 200 -\n"
     ]
    },
    {
     "name": "stdout",
     "output_type": "stream",
     "text": [
      "quntum computing\n"
     ]
    },
    {
     "name": "stderr",
     "output_type": "stream",
     "text": [
      "127.0.0.1 - - [12/Apr/2019 14:09:26] \"\u001b[37mGET /stackoverflow.com/how%20to%20implement%20transaction%20in%20hibernate HTTP/1.1\u001b[0m\" 200 -\n"
     ]
    },
    {
     "name": "stdout",
     "output_type": "stream",
     "text": [
      "how to implement transaction in hibernate\n"
     ]
    },
    {
     "name": "stderr",
     "output_type": "stream",
     "text": [
      "127.0.0.1 - - [12/Apr/2019 14:10:53] \"\u001b[37mGET /travel.stackexchange.com/places%20to%20visit%20in%20silion%20valley HTTP/1.1\u001b[0m\" 200 -\n"
     ]
    },
    {
     "name": "stdout",
     "output_type": "stream",
     "text": [
      "places to visit in silion valley\n"
     ]
    },
    {
     "name": "stderr",
     "output_type": "stream",
     "text": [
      "127.0.0.1 - - [12/Apr/2019 14:16:31] \"\u001b[37mGET /stackoverflow.com/how%20to%20implement%20transaction%20in%20hibernate HTTP/1.1\u001b[0m\" 200 -\n"
     ]
    },
    {
     "name": "stdout",
     "output_type": "stream",
     "text": [
      "how to implement transaction in hibernate\n"
     ]
    },
    {
     "name": "stderr",
     "output_type": "stream",
     "text": [
      "127.0.0.1 - - [12/Apr/2019 14:18:27] \"\u001b[37mGET /cooking.stackexchange.com/how%20to%20make%20pizza%20at%20home HTTP/1.1\u001b[0m\" 200 -\n"
     ]
    },
    {
     "name": "stdout",
     "output_type": "stream",
     "text": [
      "how to make pizza at home\n"
     ]
    },
    {
     "name": "stderr",
     "output_type": "stream",
     "text": [
      "127.0.0.1 - - [12/Apr/2019 14:22:48] \"\u001b[37mGET /robotics.stackexchange.com/how%20to%20make%20nao%20robot HTTP/1.1\u001b[0m\" 200 -\n"
     ]
    },
    {
     "name": "stdout",
     "output_type": "stream",
     "text": [
      "how to make nao robot\n"
     ]
    },
    {
     "name": "stderr",
     "output_type": "stream",
     "text": [
      "127.0.0.1 - - [12/Apr/2019 14:30:39] \"\u001b[37mGET /cooking.stackexchange.com/how%20to%20make%20pizza%20at%20home HTTP/1.1\u001b[0m\" 200 -\n"
     ]
    },
    {
     "name": "stdout",
     "output_type": "stream",
     "text": [
      "how to make pizza at home\n"
     ]
    },
    {
     "name": "stderr",
     "output_type": "stream",
     "text": [
      "127.0.0.1 - - [12/Apr/2019 14:38:09] \"\u001b[37mGET /stackoverflow.com/how%20to%20implement%20transaction%20in%20hibernate HTTP/1.1\u001b[0m\" 200 -\n"
     ]
    },
    {
     "name": "stdout",
     "output_type": "stream",
     "text": [
      "how to implement transaction in hibernate\n"
     ]
    },
    {
     "name": "stderr",
     "output_type": "stream",
     "text": [
      "127.0.0.1 - - [12/Apr/2019 14:39:14] \"\u001b[37mGET /cooking.stackexchange.com/how%20to%20make%20pizza%20at%20home HTTP/1.1\u001b[0m\" 200 -\n"
     ]
    },
    {
     "name": "stdout",
     "output_type": "stream",
     "text": [
      "how to make pizza at home\n"
     ]
    },
    {
     "name": "stderr",
     "output_type": "stream",
     "text": [
      "127.0.0.1 - - [12/Apr/2019 14:49:08] \"\u001b[37mGET /stackoverflow.com/how%20to%20crop%20image%20in%20konva.js HTTP/1.1\u001b[0m\" 200 -\n"
     ]
    },
    {
     "name": "stdout",
     "output_type": "stream",
     "text": [
      "how to crop image in konva.js\n"
     ]
    },
    {
     "name": "stderr",
     "output_type": "stream",
     "text": [
      "127.0.0.1 - - [12/Apr/2019 14:50:09] \"\u001b[37mGET /travel.stackexchange.com/where%20to%20find%20statue%20of%20unity HTTP/1.1\u001b[0m\" 200 -\n"
     ]
    },
    {
     "name": "stdout",
     "output_type": "stream",
     "text": [
      "where to find statue of unity\n"
     ]
    },
    {
     "name": "stderr",
     "output_type": "stream",
     "text": [
      "127.0.0.1 - - [12/Apr/2019 14:50:24] \"\u001b[37mGET /travel.stackexchange.com/where%20to%20find%20statue%20of%20liberty HTTP/1.1\u001b[0m\" 200 -\n"
     ]
    },
    {
     "name": "stdout",
     "output_type": "stream",
     "text": [
      "where to find statue of liberty\n"
     ]
    },
    {
     "name": "stderr",
     "output_type": "stream",
     "text": [
      "127.0.0.1 - - [12/Apr/2019 14:52:54] \"\u001b[37mGET /stackoverflow.com/is%20java%20better%20than%20javascript HTTP/1.1\u001b[0m\" 200 -\n"
     ]
    },
    {
     "name": "stdout",
     "output_type": "stream",
     "text": [
      "is java better than javascript\n"
     ]
    },
    {
     "name": "stderr",
     "output_type": "stream",
     "text": [
      "127.0.0.1 - - [12/Apr/2019 14:53:44] \"\u001b[37mGET /cooking.stackexchange.com/how%20to%20make%20pizza%20at%20home HTTP/1.1\u001b[0m\" 200 -\n"
     ]
    },
    {
     "name": "stdout",
     "output_type": "stream",
     "text": [
      "how to make pizza at home\n"
     ]
    },
    {
     "name": "stderr",
     "output_type": "stream",
     "text": [
      "127.0.0.1 - - [12/Apr/2019 14:54:04] \"\u001b[37mGET /cooking.stackexchange.com/which%20olives%20can%20be%20used%20to%20make%20olive%20oil HTTP/1.1\u001b[0m\" 200 -\n"
     ]
    },
    {
     "name": "stdout",
     "output_type": "stream",
     "text": [
      "which olives can be used to make olive oil\n"
     ]
    },
    {
     "name": "stderr",
     "output_type": "stream",
     "text": [
      "127.0.0.1 - - [12/Apr/2019 14:54:18] \"\u001b[37mGET /cooking.stackexchange.com/which%20olives%20can%20be%20used%20to%20make%20oil HTTP/1.1\u001b[0m\" 200 -\n"
     ]
    },
    {
     "name": "stdout",
     "output_type": "stream",
     "text": [
      "which olives can be used to make oil\n"
     ]
    },
    {
     "name": "stderr",
     "output_type": "stream",
     "text": [
      "127.0.0.1 - - [12/Apr/2019 14:54:28] \"\u001b[37mGET /cooking.stackexchange.com/which%20olives%20can%20be%20used%20to%20make%20pizza HTTP/1.1\u001b[0m\" 200 -\n"
     ]
    },
    {
     "name": "stdout",
     "output_type": "stream",
     "text": [
      "which olives can be used to make pizza\n"
     ]
    },
    {
     "name": "stderr",
     "output_type": "stream",
     "text": [
      "127.0.0.1 - - [12/Apr/2019 14:56:54] \"\u001b[37mGET /stackoverflow.com/how%20to%20implement%20transaction%20in%20java HTTP/1.1\u001b[0m\" 200 -\n"
     ]
    },
    {
     "name": "stdout",
     "output_type": "stream",
     "text": [
      "how to implement transaction in java\n"
     ]
    },
    {
     "name": "stderr",
     "output_type": "stream",
     "text": [
      "127.0.0.1 - - [12/Apr/2019 14:58:04] \"\u001b[37mGET /stackoverflow.com/how%20to%20implement%20transaction%20in%20hibernate HTTP/1.1\u001b[0m\" 200 -\n"
     ]
    },
    {
     "name": "stdout",
     "output_type": "stream",
     "text": [
      "how to implement transaction in hibernate\n"
     ]
    },
    {
     "name": "stderr",
     "output_type": "stream",
     "text": [
      "127.0.0.1 - - [12/Apr/2019 14:59:41] \"\u001b[37mGET /cooking.stackexchange.com/how%20to%20make%20pizza%20at%20home HTTP/1.1\u001b[0m\" 200 -\n"
     ]
    },
    {
     "name": "stdout",
     "output_type": "stream",
     "text": [
      "how to make pizza at home\n"
     ]
    },
    {
     "name": "stderr",
     "output_type": "stream",
     "text": [
      "127.0.0.1 - - [12/Apr/2019 15:05:38] \"\u001b[37mGET /stackoverflow.com/how%20to%20implement%20transaction%20in%20hibernate HTTP/1.1\u001b[0m\" 200 -\n"
     ]
    },
    {
     "name": "stdout",
     "output_type": "stream",
     "text": [
      "how to implement transaction in hibernate\n"
     ]
    },
    {
     "name": "stderr",
     "output_type": "stream",
     "text": [
      "127.0.0.1 - - [12/Apr/2019 15:06:17] \"\u001b[37mGET /stackoverflow.com/how%20to%20implement%20transaction%20in%20hibernate HTTP/1.1\u001b[0m\" 200 -\n"
     ]
    },
    {
     "name": "stdout",
     "output_type": "stream",
     "text": [
      "how to implement transaction in hibernate\n"
     ]
    },
    {
     "name": "stderr",
     "output_type": "stream",
     "text": [
      "127.0.0.1 - - [12/Apr/2019 15:10:10] \"\u001b[37mGET /stackoverflow.com/how%20to%20delete%20your%20nptel%20account%20forever HTTP/1.1\u001b[0m\" 200 -\n"
     ]
    },
    {
     "name": "stdout",
     "output_type": "stream",
     "text": [
      "how to delete your nptel account forever\n"
     ]
    },
    {
     "name": "stderr",
     "output_type": "stream",
     "text": [
      "127.0.0.1 - - [12/Apr/2019 15:10:53] \"\u001b[37mGET /stackoverflow.com/how%20to%20delete%20your%20codechef%20account%20forever? HTTP/1.1\u001b[0m\" 200 -\n"
     ]
    },
    {
     "name": "stdout",
     "output_type": "stream",
     "text": [
      "how to delete your codechef account forever\n"
     ]
    },
    {
     "name": "stderr",
     "output_type": "stream",
     "text": [
      "127.0.0.1 - - [12/Apr/2019 15:11:47] \"\u001b[37mGET /stackoverflow.com/how%20to%20delete%20your%20google%20account%20forever? HTTP/1.1\u001b[0m\" 200 -\n"
     ]
    },
    {
     "name": "stdout",
     "output_type": "stream",
     "text": [
      "how to delete your google account forever\n"
     ]
    },
    {
     "name": "stderr",
     "output_type": "stream",
     "text": [
      "127.0.0.1 - - [12/Apr/2019 15:12:29] \"\u001b[37mGET /stackoverflow.com/how%20to%20delete%20your%20facebook%20account%20forever? HTTP/1.1\u001b[0m\" 200 -\n"
     ]
    },
    {
     "name": "stdout",
     "output_type": "stream",
     "text": [
      "how to delete your facebook account forever\n"
     ]
    },
    {
     "name": "stderr",
     "output_type": "stream",
     "text": [
      "127.0.0.1 - - [12/Apr/2019 15:12:51] \"\u001b[37mGET /stackoverflow.com/how%20to%20delete%20your%20nirmal%20account%20forever? HTTP/1.1\u001b[0m\" 200 -\n"
     ]
    },
    {
     "name": "stdout",
     "output_type": "stream",
     "text": [
      "how to delete your nirmal account forever\n"
     ]
    },
    {
     "name": "stderr",
     "output_type": "stream",
     "text": [
      "127.0.0.1 - - [12/Apr/2019 15:14:03] \"\u001b[37mGET /stackoverflow.com/how%20to%20delete%20your%20nirmal%20account%20forever? HTTP/1.1\u001b[0m\" 200 -\n"
     ]
    },
    {
     "name": "stdout",
     "output_type": "stream",
     "text": [
      "how to delete your nirmal account forever\n"
     ]
    },
    {
     "name": "stderr",
     "output_type": "stream",
     "text": [
      "127.0.0.1 - - [12/Apr/2019 15:14:31] \"\u001b[37mGET /stackoverflow.com/how%20to%20delete%20your%20nirmal%20account%20forever? HTTP/1.1\u001b[0m\" 200 -\n"
     ]
    },
    {
     "name": "stdout",
     "output_type": "stream",
     "text": [
      "how to delete your nirmal account forever\n"
     ]
    },
    {
     "name": "stderr",
     "output_type": "stream",
     "text": [
      "127.0.0.1 - - [12/Apr/2019 15:15:15] \"\u001b[37mGET /stackoverflow.com/how%20to%20delete%20javascript%20from%20the%20world HTTP/1.1\u001b[0m\" 200 -\n"
     ]
    },
    {
     "name": "stdout",
     "output_type": "stream",
     "text": [
      "how to delete javascript from the world\n"
     ]
    },
    {
     "name": "stderr",
     "output_type": "stream",
     "text": [
      "127.0.0.1 - - [12/Apr/2019 15:17:09] \"\u001b[37mGET /stackoverflow.com/how%20to%20delete%20javascript%20from%20the%20world HTTP/1.1\u001b[0m\" 200 -\n"
     ]
    },
    {
     "name": "stdout",
     "output_type": "stream",
     "text": [
      "how to delete javascript from the world\n"
     ]
    },
    {
     "name": "stderr",
     "output_type": "stream",
     "text": [
      "127.0.0.1 - - [12/Apr/2019 15:17:32] \"\u001b[37mGET /stackoverflow.com/how%20to%20implement%20transactions%20in%20hibernate HTTP/1.1\u001b[0m\" 200 -\n"
     ]
    },
    {
     "name": "stdout",
     "output_type": "stream",
     "text": [
      "how to implement transactions in hibernate\n"
     ]
    },
    {
     "name": "stderr",
     "output_type": "stream",
     "text": [
      "127.0.0.1 - - [12/Apr/2019 15:19:10] \"\u001b[37mGET /cooking.stackexchange.com/how%20to%20make%20pizza%20at%20home HTTP/1.1\u001b[0m\" 200 -\n"
     ]
    },
    {
     "name": "stdout",
     "output_type": "stream",
     "text": [
      "how to make pizza at home\n"
     ]
    }
   ],
   "source": [
    "from flask import Flask, render_template, request,flash,jsonify\n",
    "app = Flask(__name__)\n",
    "@app.route('/cooking.stackexchange.com/<string:que>')\n",
    "def cooking(que):\n",
    "    print(que)\n",
    "    que = [que]\n",
    "    que = [text_prepare(i) for i in que]\n",
    "    que = tf_cooking.transform(que)\n",
    "    yp = clf_cooking.predict(que)\n",
    "    pred = tags_cooking.inverse_transform(yp)\n",
    "    data = []\n",
    "    html = ''\n",
    "    for i in range(len(pred[0])):\n",
    "        data.append(pred[0][i])\n",
    "        html += data[i]\n",
    "        html += ','\n",
    "    #print(tags.inverse_transform(yp)[0][0],len(tags.inverse_transform(yp)[0]))\n",
    "    res = {'tags' : data}\n",
    "    return html\n",
    "    #return render_template('layout.html', tags=(tags.inverse_transform(yp)))\n",
    "    \n",
    "@app.route('/crypto.stackexchange.com/<string:que>')\n",
    "def crypto(que):\n",
    "    print(que)\n",
    "    que = [que]\n",
    "    que = [text_prepare(i) for i in que]\n",
    "    que = tf_crypto.transform(que)\n",
    "    yp = clf_crypto.predict(que)\n",
    "    pred = tags_crypto.inverse_transform(yp)\n",
    "    data = []\n",
    "    html = ''\n",
    "    for i in range(len(pred[0])):\n",
    "        data.append(pred[0][i])\n",
    "        html += data[i]\n",
    "        html += ','\n",
    "    #print(tags.inverse_transform(yp)[0][0],len(tags.inverse_transform(yp)[0]))\n",
    "    res = {'tags' : data}\n",
    "    return html\n",
    "    #return render_template('layout.html', tags=(tags.inverse_transform(yp)))\n",
    "    \n",
    "@app.route('/diy.stackexchange.com/<string:que>')\n",
    "def diy(que):\n",
    "    print(que)\n",
    "    que = [que]\n",
    "    que = [text_prepare(i) for i in que]\n",
    "    que = tf_diy.transform(que)\n",
    "    yp = clf_diy.predict(que)\n",
    "    pred = tags_diy.inverse_transform(yp)\n",
    "    data = []\n",
    "    html = ''\n",
    "    for i in range(len(pred[0])):\n",
    "        data.append(pred[0][i])\n",
    "        html += data[i]\n",
    "        html += ','\n",
    "    #print(tags.inverse_transform(yp)[0][0],len(tags.inverse_transform(yp)[0]))\n",
    "    res = {'tags' : data}\n",
    "    return html\n",
    "    #return render_template('layout.html', tags=(tags.inverse_transform(yp)))\n",
    "\n",
    "@app.route('/robotics.stackexchange.com/<string:que>')\n",
    "def robotics(que):\n",
    "    print(que)\n",
    "    que = [que]\n",
    "    que = [text_prepare(i) for i in que]\n",
    "    que = tf_robotics.transform(que)\n",
    "    yp = clf_robotics.predict(que)\n",
    "    pred = tags_robotics.inverse_transform(yp)\n",
    "    data = []\n",
    "    html = ''\n",
    "    for i in range(len(pred[0])):\n",
    "        data.append(pred[0][i])\n",
    "        html += data[i]\n",
    "        html += ','\n",
    "    #print(tags.inverse_transform(yp)[0][0],len(tags.inverse_transform(yp)[0]))\n",
    "    res = {'tags' : data}\n",
    "    return html\n",
    "    #return render_template('layout.html', tags=(tags.inverse_transform(yp)))\n",
    "\n",
    "@app.route('/travel.stackexchange.com/<string:que>')\n",
    "def travel(que):\n",
    "    print(que)\n",
    "    que = [que]\n",
    "    que = [text_prepare(i) for i in que]\n",
    "    que = tf_travel.transform(que)\n",
    "    yp = clf_travel.predict(que)\n",
    "    pred = tags_travel.inverse_transform(yp)\n",
    "    data = []\n",
    "    html = ''\n",
    "    for i in range(len(pred[0])):\n",
    "        data.append(pred[0][i])\n",
    "        html += data[i]\n",
    "        html += ','\n",
    "    #print(tags.inverse_transform(yp)[0][0],len(tags.inverse_transform(yp)[0]))\n",
    "    res = {'tags' : data}\n",
    "    return html\n",
    "    #return render_template('layout.html', tags=(tags.inverse_transform(yp)))\n",
    "\n",
    "@app.route('/biology.stackexchange.com/<string:que>')\n",
    "def biology(que):\n",
    "    print(que)\n",
    "    que = [que]\n",
    "    que = [text_prepare(i) for i in que]\n",
    "    que = tf_biology.transform(que)\n",
    "    yp = clf_biology.predict(que)\n",
    "    pred = tags_biology.inverse_transform(yp)\n",
    "    data = []\n",
    "    html = ''\n",
    "    for i in range(len(pred[0])):\n",
    "        data.append(pred[0][i])\n",
    "        html += data[i]\n",
    "        html += ','\n",
    "    #print(tags.inverse_transform(yp)[0][0],len(tags.inverse_transform(yp)[0]))\n",
    "    res = {'tags' : data}\n",
    "    return html\n",
    "    #return render_template('layout.html', tags=(tags.inverse_transform(yp)))\n",
    "\n",
    "@app.route('/stackoverflow.com/<string:que>')\n",
    "def stackoverflow(que):\n",
    "    print(que)\n",
    "    que = [que]\n",
    "    que = [text_prepare(i) for i in que]\n",
    "    que = tf_stackoverflow.transform(que)\n",
    "    yp = clf_stackoverflow.predict(que)\n",
    "    pred = tags_stackoverflow.inverse_transform(yp)\n",
    "    data = []\n",
    "    html = ''\n",
    "    for i in range(len(pred[0])):\n",
    "        data.append(pred[0][i])\n",
    "        html += data[i]\n",
    "        html += ','\n",
    "    #print(tags.inverse_transform(yp)[0][0],len(tags.inverse_transform(yp)[0]))\n",
    "    res = {'tags' : data}\n",
    "    return html\n",
    "    #return render_template('layout.html', tags=(tags.inverse_transform(yp)))\n",
    "  \n",
    "if __name__ == '__main__':\n",
    "    app.run()"
   ]
  },
  {
   "cell_type": "code",
   "execution_count": null,
   "metadata": {},
   "outputs": [],
   "source": []
  },
  {
   "cell_type": "code",
   "execution_count": null,
   "metadata": {},
   "outputs": [],
   "source": []
  },
  {
   "cell_type": "code",
   "execution_count": null,
   "metadata": {},
   "outputs": [],
   "source": []
  }
 ],
 "metadata": {
  "kernelspec": {
   "display_name": "Python 3",
   "language": "python",
   "name": "python3"
  },
  "language_info": {
   "codemirror_mode": {
    "name": "ipython",
    "version": 3
   },
   "file_extension": ".py",
   "mimetype": "text/x-python",
   "name": "python",
   "nbconvert_exporter": "python",
   "pygments_lexer": "ipython3",
   "version": "3.6.6"
  },
  "varInspector": {
   "cols": {
    "lenName": 16,
    "lenType": 16,
    "lenVar": 40
   },
   "kernels_config": {
    "python": {
     "delete_cmd_postfix": "",
     "delete_cmd_prefix": "del ",
     "library": "var_list.py",
     "varRefreshCmd": "print(var_dic_list())"
    },
    "r": {
     "delete_cmd_postfix": ") ",
     "delete_cmd_prefix": "rm(",
     "library": "var_list.r",
     "varRefreshCmd": "cat(var_dic_list()) "
    }
   },
   "types_to_exclude": [
    "module",
    "function",
    "builtin_function_or_method",
    "instance",
    "_Feature"
   ],
   "window_display": false
  }
 },
 "nbformat": 4,
 "nbformat_minor": 1
}
