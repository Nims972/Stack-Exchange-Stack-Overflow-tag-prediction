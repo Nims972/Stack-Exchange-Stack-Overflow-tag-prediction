{
 "cells": [
  {
   "cell_type": "code",
   "execution_count": 2,
   "metadata": {
    "_uuid": "6d9d951d955e1c17f17b6d8ec9125e02e9346589"
   },
   "outputs": [],
   "source": [
    "import nltk\n",
    "# nltk.download('stopwords')\n",
    "from nltk.corpus import stopwords"
   ]
  },
  {
   "cell_type": "code",
   "execution_count": 3,
   "metadata": {
    "_uuid": "8b4bc4cf8ba2144c6e0174241548868c706e9eb4"
   },
   "outputs": [],
   "source": [
    "from ast import literal_eval\n",
    "import pandas as pd\n",
    "import numpy as np"
   ]
  },
  {
   "cell_type": "code",
   "execution_count": 4,
   "metadata": {
    "_uuid": "1d8f47b1fcb8211c364a18041ddb5c0858dd3722"
   },
   "outputs": [],
   "source": [
    "def read_data(filename):\n",
    "    data = pd.read_csv(filename, sep='\\t')\n",
    "    data['tags'] = data['tags'].apply(literal_eval)\n",
    "    return data"
   ]
  },
  {
   "cell_type": "code",
   "execution_count": 5,
   "metadata": {
    "_uuid": "9f2df6ee94f8220481ef6dc333afd5f33bd67a24"
   },
   "outputs": [],
   "source": [
    "tmp = pd.read_csv('train.tsv', sep = '\\t')\n",
    "train = read_data('train.tsv')\n",
    "validation = read_data('validation.tsv')\n",
    "test = pd.read_csv('test.tsv', sep='\\t')"
   ]
  },
  {
   "cell_type": "code",
   "execution_count": 6,
   "metadata": {
    "_uuid": "2408cacb2e2d5f4f514afbc0404843ee1e94d72a"
   },
   "outputs": [
    {
     "data": {
      "text/html": [
       "<div>\n",
       "<style scoped>\n",
       "    .dataframe tbody tr th:only-of-type {\n",
       "        vertical-align: middle;\n",
       "    }\n",
       "\n",
       "    .dataframe tbody tr th {\n",
       "        vertical-align: top;\n",
       "    }\n",
       "\n",
       "    .dataframe thead th {\n",
       "        text-align: right;\n",
       "    }\n",
       "</style>\n",
       "<table border=\"1\" class=\"dataframe\">\n",
       "  <thead>\n",
       "    <tr style=\"text-align: right;\">\n",
       "      <th></th>\n",
       "      <th>title</th>\n",
       "      <th>tags</th>\n",
       "    </tr>\n",
       "  </thead>\n",
       "  <tbody>\n",
       "    <tr>\n",
       "      <th>0</th>\n",
       "      <td>How to draw a stacked dotplot in R?</td>\n",
       "      <td>[r]</td>\n",
       "    </tr>\n",
       "    <tr>\n",
       "      <th>1</th>\n",
       "      <td>mysql select all records where a datetime fiel...</td>\n",
       "      <td>[php, mysql]</td>\n",
       "    </tr>\n",
       "    <tr>\n",
       "      <th>2</th>\n",
       "      <td>How to terminate windows phone 8.1 app</td>\n",
       "      <td>[c#]</td>\n",
       "    </tr>\n",
       "    <tr>\n",
       "      <th>3</th>\n",
       "      <td>get current time in a specific country via jquery</td>\n",
       "      <td>[javascript, jquery]</td>\n",
       "    </tr>\n",
       "    <tr>\n",
       "      <th>4</th>\n",
       "      <td>Configuring Tomcat to Use SSL</td>\n",
       "      <td>[java]</td>\n",
       "    </tr>\n",
       "    <tr>\n",
       "      <th>5</th>\n",
       "      <td>Awesome nested set plugin - how to add new chi...</td>\n",
       "      <td>[ruby-on-rails]</td>\n",
       "    </tr>\n",
       "    <tr>\n",
       "      <th>6</th>\n",
       "      <td>How to create map from JSON response in Ruby o...</td>\n",
       "      <td>[ruby, ruby-on-rails-3, json]</td>\n",
       "    </tr>\n",
       "    <tr>\n",
       "      <th>7</th>\n",
       "      <td>rspec test if method is called</td>\n",
       "      <td>[ruby]</td>\n",
       "    </tr>\n",
       "    <tr>\n",
       "      <th>8</th>\n",
       "      <td>SpringBoot Catalina LifeCycle Exception</td>\n",
       "      <td>[java, spring, spring-mvc]</td>\n",
       "    </tr>\n",
       "    <tr>\n",
       "      <th>9</th>\n",
       "      <td>How to import data from excel to mysql databas...</td>\n",
       "      <td>[php, codeigniter]</td>\n",
       "    </tr>\n",
       "    <tr>\n",
       "      <th>10</th>\n",
       "      <td>Obtaining the object the java.lang.Class&lt;T&gt; ob...</td>\n",
       "      <td>[java, class]</td>\n",
       "    </tr>\n",
       "    <tr>\n",
       "      <th>11</th>\n",
       "      <td>iPad not selecting all text inside a text inpu...</td>\n",
       "      <td>[javascript, jquery, html, ios]</td>\n",
       "    </tr>\n",
       "    <tr>\n",
       "      <th>12</th>\n",
       "      <td>How is jQuery's $ a function and an object?</td>\n",
       "      <td>[javascript, jquery]</td>\n",
       "    </tr>\n",
       "    <tr>\n",
       "      <th>13</th>\n",
       "      <td>Eclipse C++ MinGW - Can not Lauch Program &lt;Ter...</td>\n",
       "      <td>[c++, eclipse]</td>\n",
       "    </tr>\n",
       "    <tr>\n",
       "      <th>14</th>\n",
       "      <td>In javascript how can I call one prototype met...</td>\n",
       "      <td>[javascript]</td>\n",
       "    </tr>\n",
       "    <tr>\n",
       "      <th>15</th>\n",
       "      <td>get intersection of list of sets</td>\n",
       "      <td>[python, list]</td>\n",
       "    </tr>\n",
       "    <tr>\n",
       "      <th>16</th>\n",
       "      <td>No longer able to hide keyboard during viewWil...</td>\n",
       "      <td>[ios, objective-c]</td>\n",
       "    </tr>\n",
       "    <tr>\n",
       "      <th>17</th>\n",
       "      <td>How to fetch the key from JSON in Swift?</td>\n",
       "      <td>[ios, json, swift]</td>\n",
       "    </tr>\n",
       "    <tr>\n",
       "      <th>18</th>\n",
       "      <td>How to Change Pivot Header Template in Windows...</td>\n",
       "      <td>[c#, xaml]</td>\n",
       "    </tr>\n",
       "    <tr>\n",
       "      <th>19</th>\n",
       "      <td>connectionString encryption</td>\n",
       "      <td>[c#, asp.net]</td>\n",
       "    </tr>\n",
       "    <tr>\n",
       "      <th>20</th>\n",
       "      <td>How to let the UI refresh during a long runnin...</td>\n",
       "      <td>[c#, wpf, multithreading]</td>\n",
       "    </tr>\n",
       "    <tr>\n",
       "      <th>21</th>\n",
       "      <td>Better way to execute ruby file using Python a...</td>\n",
       "      <td>[python, ruby]</td>\n",
       "    </tr>\n",
       "    <tr>\n",
       "      <th>22</th>\n",
       "      <td>make 2 thumbnails at once in codeigniter</td>\n",
       "      <td>[php, image, codeigniter]</td>\n",
       "    </tr>\n",
       "    <tr>\n",
       "      <th>23</th>\n",
       "      <td>Java Character vs char: what about memory usage?</td>\n",
       "      <td>[java, performance]</td>\n",
       "    </tr>\n",
       "    <tr>\n",
       "      <th>24</th>\n",
       "      <td>Bootstrap modal close on enter key press</td>\n",
       "      <td>[javascript, jquery, twitter-bootstrap]</td>\n",
       "    </tr>\n",
       "    <tr>\n",
       "      <th>25</th>\n",
       "      <td>Linq query with group by retrieving percentage</td>\n",
       "      <td>[c#, linq]</td>\n",
       "    </tr>\n",
       "    <tr>\n",
       "      <th>26</th>\n",
       "      <td>Label field issue - OpenErp</td>\n",
       "      <td>[python, xml]</td>\n",
       "    </tr>\n",
       "    <tr>\n",
       "      <th>27</th>\n",
       "      <td>How to keep 2 objects in view at all time by s...</td>\n",
       "      <td>[c#]</td>\n",
       "    </tr>\n",
       "    <tr>\n",
       "      <th>28</th>\n",
       "      <td>AttributeError: 'NoneType' object has no attri...</td>\n",
       "      <td>[python]</td>\n",
       "    </tr>\n",
       "    <tr>\n",
       "      <th>29</th>\n",
       "      <td>How to append to .mat file using scipy.io.save...</td>\n",
       "      <td>[python, numpy]</td>\n",
       "    </tr>\n",
       "    <tr>\n",
       "      <th>...</th>\n",
       "      <td>...</td>\n",
       "      <td>...</td>\n",
       "    </tr>\n",
       "    <tr>\n",
       "      <th>70</th>\n",
       "      <td>Backbone model.save() is sending PUT instead o...</td>\n",
       "      <td>[javascript]</td>\n",
       "    </tr>\n",
       "    <tr>\n",
       "      <th>71</th>\n",
       "      <td>'window.location.replace' redirects to the giv...</td>\n",
       "      <td>[php, javascript, ajax]</td>\n",
       "    </tr>\n",
       "    <tr>\n",
       "      <th>72</th>\n",
       "      <td>MVC 4 Razor: Model missing collections when I ...</td>\n",
       "      <td>[c#, asp.net-mvc]</td>\n",
       "    </tr>\n",
       "    <tr>\n",
       "      <th>73</th>\n",
       "      <td>Apache POI date dd.MM.yyyy</td>\n",
       "      <td>[java]</td>\n",
       "    </tr>\n",
       "    <tr>\n",
       "      <th>74</th>\n",
       "      <td>Change the style of one dynamically created Li...</td>\n",
       "      <td>[c#, asp.net]</td>\n",
       "    </tr>\n",
       "    <tr>\n",
       "      <th>75</th>\n",
       "      <td>How can I check if a point is below a line or ...</td>\n",
       "      <td>[python]</td>\n",
       "    </tr>\n",
       "    <tr>\n",
       "      <th>76</th>\n",
       "      <td>python client request fails with default timeout</td>\n",
       "      <td>[python, python-2.7]</td>\n",
       "    </tr>\n",
       "    <tr>\n",
       "      <th>77</th>\n",
       "      <td>Simultaneously acquire data and update graph u...</td>\n",
       "      <td>[python, multithreading]</td>\n",
       "    </tr>\n",
       "    <tr>\n",
       "      <th>78</th>\n",
       "      <td>Store value into string array</td>\n",
       "      <td>[java, android, arrays]</td>\n",
       "    </tr>\n",
       "    <tr>\n",
       "      <th>79</th>\n",
       "      <td>C# DataTable Inner join with dynamic columns</td>\n",
       "      <td>[c#]</td>\n",
       "    </tr>\n",
       "    <tr>\n",
       "      <th>80</th>\n",
       "      <td>The correct realization of the adapter pattern...</td>\n",
       "      <td>[ios, objective-c]</td>\n",
       "    </tr>\n",
       "    <tr>\n",
       "      <th>81</th>\n",
       "      <td>How to save an image to another folder using a...</td>\n",
       "      <td>[javascript, jquery, ajax, spring-mvc]</td>\n",
       "    </tr>\n",
       "    <tr>\n",
       "      <th>82</th>\n",
       "      <td>When should I use function currying in Python?</td>\n",
       "      <td>[python]</td>\n",
       "    </tr>\n",
       "    <tr>\n",
       "      <th>83</th>\n",
       "      <td>jquery DataTables.net plugin: how to ignore sp...</td>\n",
       "      <td>[javascript, jquery, html]</td>\n",
       "    </tr>\n",
       "    <tr>\n",
       "      <th>84</th>\n",
       "      <td>How to get current dom element in angular dire...</td>\n",
       "      <td>[javascript, angularjs, dom]</td>\n",
       "    </tr>\n",
       "    <tr>\n",
       "      <th>85</th>\n",
       "      <td>Draw rectangles next to each other in Java</td>\n",
       "      <td>[java, swing]</td>\n",
       "    </tr>\n",
       "    <tr>\n",
       "      <th>86</th>\n",
       "      <td>Getting all parameters from URL in Zend</td>\n",
       "      <td>[php]</td>\n",
       "    </tr>\n",
       "    <tr>\n",
       "      <th>87</th>\n",
       "      <td>Template inheritance inner class access problem</td>\n",
       "      <td>[c++, class]</td>\n",
       "    </tr>\n",
       "    <tr>\n",
       "      <th>88</th>\n",
       "      <td>ValueError: time data '2012-07-19 08:24:00' do...</td>\n",
       "      <td>[python]</td>\n",
       "    </tr>\n",
       "    <tr>\n",
       "      <th>89</th>\n",
       "      <td>Passing an array of JSON objects trough socket...</td>\n",
       "      <td>[java, json, sockets]</td>\n",
       "    </tr>\n",
       "    <tr>\n",
       "      <th>90</th>\n",
       "      <td>Missing child nodes when deserializing XML to ...</td>\n",
       "      <td>[c#, .net, xml]</td>\n",
       "    </tr>\n",
       "    <tr>\n",
       "      <th>91</th>\n",
       "      <td>Error when uploading new iPad app version: \"iP...</td>\n",
       "      <td>[objective-c, xcode, ios]</td>\n",
       "    </tr>\n",
       "    <tr>\n",
       "      <th>92</th>\n",
       "      <td>Passing an array using COM?</td>\n",
       "      <td>[c++]</td>\n",
       "    </tr>\n",
       "    <tr>\n",
       "      <th>93</th>\n",
       "      <td>Getting urllib2.URLError: &lt;urlopen error [Errn...</td>\n",
       "      <td>[python]</td>\n",
       "    </tr>\n",
       "    <tr>\n",
       "      <th>94</th>\n",
       "      <td>Unique Combination of Set</td>\n",
       "      <td>[vb.net]</td>\n",
       "    </tr>\n",
       "    <tr>\n",
       "      <th>95</th>\n",
       "      <td>bind drop down list using jquery ajax on chang...</td>\n",
       "      <td>[c#, jquery, asp.net]</td>\n",
       "    </tr>\n",
       "    <tr>\n",
       "      <th>96</th>\n",
       "      <td>Rails 3.1 Qeurying the database encrypted with...</td>\n",
       "      <td>[mysql, ruby-on-rails, ruby-on-rails-3]</td>\n",
       "    </tr>\n",
       "    <tr>\n",
       "      <th>97</th>\n",
       "      <td>ListCtrl Hack: Set a ListItems Text in a ListCtrl</td>\n",
       "      <td>[python]</td>\n",
       "    </tr>\n",
       "    <tr>\n",
       "      <th>98</th>\n",
       "      <td>PHP, MySQL, and Google Maps API Generate POI b...</td>\n",
       "      <td>[php, javascript, mysql, google-maps]</td>\n",
       "    </tr>\n",
       "    <tr>\n",
       "      <th>99</th>\n",
       "      <td>: mappedBy reference an unknown target entity ...</td>\n",
       "      <td>[java, spring, hibernate]</td>\n",
       "    </tr>\n",
       "  </tbody>\n",
       "</table>\n",
       "<p>100 rows × 2 columns</p>\n",
       "</div>"
      ],
      "text/plain": [
       "                                                title  \\\n",
       "0                 How to draw a stacked dotplot in R?   \n",
       "1   mysql select all records where a datetime fiel...   \n",
       "2              How to terminate windows phone 8.1 app   \n",
       "3   get current time in a specific country via jquery   \n",
       "4                       Configuring Tomcat to Use SSL   \n",
       "5   Awesome nested set plugin - how to add new chi...   \n",
       "6   How to create map from JSON response in Ruby o...   \n",
       "7                      rspec test if method is called   \n",
       "8             SpringBoot Catalina LifeCycle Exception   \n",
       "9   How to import data from excel to mysql databas...   \n",
       "10  Obtaining the object the java.lang.Class<T> ob...   \n",
       "11  iPad not selecting all text inside a text inpu...   \n",
       "12        How is jQuery's $ a function and an object?   \n",
       "13  Eclipse C++ MinGW - Can not Lauch Program <Ter...   \n",
       "14  In javascript how can I call one prototype met...   \n",
       "15                   get intersection of list of sets   \n",
       "16  No longer able to hide keyboard during viewWil...   \n",
       "17           How to fetch the key from JSON in Swift?   \n",
       "18  How to Change Pivot Header Template in Windows...   \n",
       "19                        connectionString encryption   \n",
       "20  How to let the UI refresh during a long runnin...   \n",
       "21  Better way to execute ruby file using Python a...   \n",
       "22           make 2 thumbnails at once in codeigniter   \n",
       "23   Java Character vs char: what about memory usage?   \n",
       "24           Bootstrap modal close on enter key press   \n",
       "25     Linq query with group by retrieving percentage   \n",
       "26                        Label field issue - OpenErp   \n",
       "27  How to keep 2 objects in view at all time by s...   \n",
       "28  AttributeError: 'NoneType' object has no attri...   \n",
       "29  How to append to .mat file using scipy.io.save...   \n",
       "..                                                ...   \n",
       "70  Backbone model.save() is sending PUT instead o...   \n",
       "71  'window.location.replace' redirects to the giv...   \n",
       "72  MVC 4 Razor: Model missing collections when I ...   \n",
       "73                         Apache POI date dd.MM.yyyy   \n",
       "74  Change the style of one dynamically created Li...   \n",
       "75  How can I check if a point is below a line or ...   \n",
       "76   python client request fails with default timeout   \n",
       "77  Simultaneously acquire data and update graph u...   \n",
       "78                      Store value into string array   \n",
       "79       C# DataTable Inner join with dynamic columns   \n",
       "80  The correct realization of the adapter pattern...   \n",
       "81  How to save an image to another folder using a...   \n",
       "82     When should I use function currying in Python?   \n",
       "83  jquery DataTables.net plugin: how to ignore sp...   \n",
       "84  How to get current dom element in angular dire...   \n",
       "85         Draw rectangles next to each other in Java   \n",
       "86            Getting all parameters from URL in Zend   \n",
       "87    Template inheritance inner class access problem   \n",
       "88  ValueError: time data '2012-07-19 08:24:00' do...   \n",
       "89  Passing an array of JSON objects trough socket...   \n",
       "90  Missing child nodes when deserializing XML to ...   \n",
       "91  Error when uploading new iPad app version: \"iP...   \n",
       "92                        Passing an array using COM?   \n",
       "93  Getting urllib2.URLError: <urlopen error [Errn...   \n",
       "94                          Unique Combination of Set   \n",
       "95  bind drop down list using jquery ajax on chang...   \n",
       "96  Rails 3.1 Qeurying the database encrypted with...   \n",
       "97  ListCtrl Hack: Set a ListItems Text in a ListCtrl   \n",
       "98  PHP, MySQL, and Google Maps API Generate POI b...   \n",
       "99  : mappedBy reference an unknown target entity ...   \n",
       "\n",
       "                                       tags  \n",
       "0                                       [r]  \n",
       "1                              [php, mysql]  \n",
       "2                                      [c#]  \n",
       "3                      [javascript, jquery]  \n",
       "4                                    [java]  \n",
       "5                           [ruby-on-rails]  \n",
       "6             [ruby, ruby-on-rails-3, json]  \n",
       "7                                    [ruby]  \n",
       "8                [java, spring, spring-mvc]  \n",
       "9                        [php, codeigniter]  \n",
       "10                            [java, class]  \n",
       "11          [javascript, jquery, html, ios]  \n",
       "12                     [javascript, jquery]  \n",
       "13                           [c++, eclipse]  \n",
       "14                             [javascript]  \n",
       "15                           [python, list]  \n",
       "16                       [ios, objective-c]  \n",
       "17                       [ios, json, swift]  \n",
       "18                               [c#, xaml]  \n",
       "19                            [c#, asp.net]  \n",
       "20                [c#, wpf, multithreading]  \n",
       "21                           [python, ruby]  \n",
       "22                [php, image, codeigniter]  \n",
       "23                      [java, performance]  \n",
       "24  [javascript, jquery, twitter-bootstrap]  \n",
       "25                               [c#, linq]  \n",
       "26                            [python, xml]  \n",
       "27                                     [c#]  \n",
       "28                                 [python]  \n",
       "29                          [python, numpy]  \n",
       "..                                      ...  \n",
       "70                             [javascript]  \n",
       "71                  [php, javascript, ajax]  \n",
       "72                        [c#, asp.net-mvc]  \n",
       "73                                   [java]  \n",
       "74                            [c#, asp.net]  \n",
       "75                                 [python]  \n",
       "76                     [python, python-2.7]  \n",
       "77                 [python, multithreading]  \n",
       "78                  [java, android, arrays]  \n",
       "79                                     [c#]  \n",
       "80                       [ios, objective-c]  \n",
       "81   [javascript, jquery, ajax, spring-mvc]  \n",
       "82                                 [python]  \n",
       "83               [javascript, jquery, html]  \n",
       "84             [javascript, angularjs, dom]  \n",
       "85                            [java, swing]  \n",
       "86                                    [php]  \n",
       "87                             [c++, class]  \n",
       "88                                 [python]  \n",
       "89                    [java, json, sockets]  \n",
       "90                          [c#, .net, xml]  \n",
       "91                [objective-c, xcode, ios]  \n",
       "92                                    [c++]  \n",
       "93                                 [python]  \n",
       "94                                 [vb.net]  \n",
       "95                    [c#, jquery, asp.net]  \n",
       "96  [mysql, ruby-on-rails, ruby-on-rails-3]  \n",
       "97                                 [python]  \n",
       "98    [php, javascript, mysql, google-maps]  \n",
       "99                [java, spring, hibernate]  \n",
       "\n",
       "[100 rows x 2 columns]"
      ]
     },
     "execution_count": 6,
     "metadata": {},
     "output_type": "execute_result"
    }
   ],
   "source": [
    "train.head(100)"
   ]
  },
  {
   "cell_type": "code",
   "execution_count": 6,
   "metadata": {
    "_uuid": "434572be0a462f6f57520b91e65dcbfb82ea747c"
   },
   "outputs": [
    {
     "data": {
      "text/html": [
       "<div>\n",
       "<style scoped>\n",
       "    .dataframe tbody tr th:only-of-type {\n",
       "        vertical-align: middle;\n",
       "    }\n",
       "\n",
       "    .dataframe tbody tr th {\n",
       "        vertical-align: top;\n",
       "    }\n",
       "\n",
       "    .dataframe thead th {\n",
       "        text-align: right;\n",
       "    }\n",
       "</style>\n",
       "<table border=\"1\" class=\"dataframe\">\n",
       "  <thead>\n",
       "    <tr style=\"text-align: right;\">\n",
       "      <th></th>\n",
       "      <th>title</th>\n",
       "      <th>tags</th>\n",
       "    </tr>\n",
       "  </thead>\n",
       "  <tbody>\n",
       "    <tr>\n",
       "      <th>0</th>\n",
       "      <td>How to draw a stacked dotplot in R?</td>\n",
       "      <td>['r']</td>\n",
       "    </tr>\n",
       "    <tr>\n",
       "      <th>1</th>\n",
       "      <td>mysql select all records where a datetime fiel...</td>\n",
       "      <td>['php', 'mysql']</td>\n",
       "    </tr>\n",
       "    <tr>\n",
       "      <th>2</th>\n",
       "      <td>How to terminate windows phone 8.1 app</td>\n",
       "      <td>['c#']</td>\n",
       "    </tr>\n",
       "    <tr>\n",
       "      <th>3</th>\n",
       "      <td>get current time in a specific country via jquery</td>\n",
       "      <td>['javascript', 'jquery']</td>\n",
       "    </tr>\n",
       "    <tr>\n",
       "      <th>4</th>\n",
       "      <td>Configuring Tomcat to Use SSL</td>\n",
       "      <td>['java']</td>\n",
       "    </tr>\n",
       "  </tbody>\n",
       "</table>\n",
       "</div>"
      ],
      "text/plain": [
       "                                               title                      tags\n",
       "0                How to draw a stacked dotplot in R?                     ['r']\n",
       "1  mysql select all records where a datetime fiel...          ['php', 'mysql']\n",
       "2             How to terminate windows phone 8.1 app                    ['c#']\n",
       "3  get current time in a specific country via jquery  ['javascript', 'jquery']\n",
       "4                      Configuring Tomcat to Use SSL                  ['java']"
      ]
     },
     "execution_count": 6,
     "metadata": {},
     "output_type": "execute_result"
    }
   ],
   "source": [
    "tmp.head()"
   ]
  },
  {
   "cell_type": "code",
   "execution_count": 7,
   "metadata": {
    "_uuid": "7e7c07415f19f8ef175859d6d378fa71f20a43a9"
   },
   "outputs": [],
   "source": [
    "X_train, y_train = train['title'].values, train['tags'].values\n",
    "X_val, y_val = validation['title'].values, validation['tags'].values\n",
    "X_test = test['title'].values"
   ]
  },
  {
   "cell_type": "code",
   "execution_count": 8,
   "metadata": {
    "_uuid": "1a44209b8eeeb781b6d2d592b4d9e5846e3b587c"
   },
   "outputs": [
    {
     "data": {
      "text/plain": [
       "['php', 'mysql']"
      ]
     },
     "execution_count": 8,
     "metadata": {},
     "output_type": "execute_result"
    }
   ],
   "source": [
    "y_train[1]"
   ]
  },
  {
   "cell_type": "code",
   "execution_count": 9,
   "metadata": {
    "_uuid": "e1d92189d0e832b03e99604ddab5ad6551f6dab8"
   },
   "outputs": [],
   "source": [
    "import re"
   ]
  },
  {
   "cell_type": "code",
   "execution_count": 10,
   "metadata": {
    "_uuid": "62459fd06eb930749b9f5b6905bd505e2998a7e7"
   },
   "outputs": [],
   "source": [
    "REPLACE_BY_SPACE_RE = re.compile('[/(){}\\[\\]\\|@,;]')\n",
    "BAD_SYMBOLS_RE = re.compile('[^0-9a-z #+_]')\n",
    "STOPWORDS = set(stopwords.words('english'))\n",
    "\n",
    "def text_prepare(text):\n",
    "    text = text.lower()\n",
    "    text = REPLACE_BY_SPACE_RE.sub(' ', text)\n",
    "    text = BAD_SYMBOLS_RE.sub('', text)\n",
    "    text = ' '.join(word for word in text.split() if word not in STOPWORDS)\n",
    "    return text"
   ]
  },
  {
   "cell_type": "code",
   "execution_count": 11,
   "metadata": {
    "_uuid": "fa44651202a367dcfbd1817ab638e10b6bbc12f0"
   },
   "outputs": [
    {
     "ename": "FileNotFoundError",
     "evalue": "[Errno 2] No such file or directory: 'text_prepare_tests.tsv'",
     "output_type": "error",
     "traceback": [
      "\u001b[1;31m---------------------------------------------------------------------------\u001b[0m",
      "\u001b[1;31mFileNotFoundError\u001b[0m                         Traceback (most recent call last)",
      "\u001b[1;32m<ipython-input-11-7a2f93ae8273>\u001b[0m in \u001b[0;36m<module>\u001b[1;34m()\u001b[0m\n\u001b[0;32m      1\u001b[0m \u001b[0mprepared_questions\u001b[0m \u001b[1;33m=\u001b[0m \u001b[1;33m[\u001b[0m\u001b[1;33m]\u001b[0m\u001b[1;33m\u001b[0m\u001b[0m\n\u001b[1;32m----> 2\u001b[1;33m \u001b[1;32mfor\u001b[0m \u001b[0mline\u001b[0m \u001b[1;32min\u001b[0m \u001b[0mopen\u001b[0m\u001b[1;33m(\u001b[0m\u001b[1;34m'text_prepare_tests.tsv'\u001b[0m\u001b[1;33m,\u001b[0m \u001b[0mencoding\u001b[0m\u001b[1;33m=\u001b[0m\u001b[1;34m'utf-8'\u001b[0m\u001b[1;33m)\u001b[0m\u001b[1;33m:\u001b[0m\u001b[1;33m\u001b[0m\u001b[0m\n\u001b[0m\u001b[0;32m      3\u001b[0m     \u001b[0mline\u001b[0m \u001b[1;33m=\u001b[0m \u001b[0mtext_prepare\u001b[0m\u001b[1;33m(\u001b[0m\u001b[0mline\u001b[0m\u001b[1;33m.\u001b[0m\u001b[0mstrip\u001b[0m\u001b[1;33m(\u001b[0m\u001b[1;33m)\u001b[0m\u001b[1;33m)\u001b[0m\u001b[1;33m\u001b[0m\u001b[0m\n\u001b[0;32m      4\u001b[0m     \u001b[0mprepared_questions\u001b[0m\u001b[1;33m.\u001b[0m\u001b[0mappend\u001b[0m\u001b[1;33m(\u001b[0m\u001b[0mline\u001b[0m\u001b[1;33m)\u001b[0m\u001b[1;33m\u001b[0m\u001b[0m\n\u001b[0;32m      5\u001b[0m \u001b[0mtext_prepare_results\u001b[0m \u001b[1;33m=\u001b[0m \u001b[1;34m'\\n'\u001b[0m\u001b[1;33m.\u001b[0m\u001b[0mjoin\u001b[0m\u001b[1;33m(\u001b[0m\u001b[0mprepared_questions\u001b[0m\u001b[1;33m)\u001b[0m\u001b[1;33m\u001b[0m\u001b[0m\n",
      "\u001b[1;31mFileNotFoundError\u001b[0m: [Errno 2] No such file or directory: 'text_prepare_tests.tsv'"
     ]
    }
   ],
   "source": [
    "# prepared_questions = []\n",
    "# for line in open('text_prepare_tests.tsv', encoding='utf-8'):\n",
    "#     line = text_prepare(line.strip())\n",
    "#     prepared_questions.append(line)\n",
    "# text_prepare_results = '\\n'.join(prepared_questions)"
   ]
  },
  {
   "cell_type": "code",
   "execution_count": 12,
   "metadata": {
    "_uuid": "c9e303d8c6d5ba8754b67878f014cbfb9de3fc67"
   },
   "outputs": [],
   "source": [
    "X_train = [text_prepare(x) for x in X_train]\n",
    "X_val = [text_prepare(x) for x in X_val]\n",
    "X_test = [text_prepare(x) for x in X_test]"
   ]
  },
  {
   "cell_type": "code",
   "execution_count": 13,
   "metadata": {
    "_uuid": "7517235bc286f290c01f373ab158e30a183ad44c"
   },
   "outputs": [
    {
     "data": {
      "text/plain": [
       "['draw stacked dotplot r',\n",
       " 'mysql select records datetime field less specified value',\n",
       " 'terminate windows phone 81 app']"
      ]
     },
     "execution_count": 13,
     "metadata": {},
     "output_type": "execute_result"
    }
   ],
   "source": [
    "X_train[:3]"
   ]
  },
  {
   "cell_type": "code",
   "execution_count": 14,
   "metadata": {
    "_uuid": "5c54dca0249e38186269ca87571863b63eccdedc"
   },
   "outputs": [],
   "source": [
    "from collections import defaultdict\n",
    "tags_counts = defaultdict(int)\n",
    "words_counts = defaultdict(int)\n",
    "for tags in y_train:\n",
    "    for tag in tags:\n",
    "        tags_counts[tag] += 1\n",
    "for text in X_train:\n",
    "    for word in text.split():\n",
    "        words_counts[word] += 1"
   ]
  },
  {
   "cell_type": "code",
   "execution_count": 15,
   "metadata": {
    "_uuid": "1c4446d685ec463e089d2405dba48874334c2acd"
   },
   "outputs": [],
   "source": [
    "most_common_tags = sorted(tags_counts.items(), key=lambda x: x[1], reverse=True)[:10]\n",
    "most_common_words = sorted(words_counts.items(), key=lambda x: x[1], reverse=True)[:3]"
   ]
  },
  {
   "cell_type": "code",
   "execution_count": 16,
   "metadata": {},
   "outputs": [
    {
     "data": {
      "text/plain": [
       "[('javascript', 19078),\n",
       " ('c#', 19077),\n",
       " ('java', 18661),\n",
       " ('php', 13907),\n",
       " ('python', 8940),\n",
       " ('jquery', 7510),\n",
       " ('c++', 6469),\n",
       " ('html', 4668),\n",
       " ('objective-c', 4338),\n",
       " ('asp.net', 3939)]"
      ]
     },
     "execution_count": 16,
     "metadata": {},
     "output_type": "execute_result"
    }
   ],
   "source": [
    "most_common_tags"
   ]
  },
  {
   "cell_type": "code",
   "execution_count": 17,
   "metadata": {
    "_uuid": "ce44227876accd2dd38793c02b2f4de0c6420dd2"
   },
   "outputs": [],
   "source": [
    "from scipy import sparse as sp_sparse"
   ]
  },
  {
   "cell_type": "code",
   "execution_count": 18,
   "metadata": {
    "_uuid": "1a8543abbd24292be2672fdb6d1a77397bb553ac"
   },
   "outputs": [],
   "source": [
    "from sklearn.feature_extraction.text import TfidfVectorizer"
   ]
  },
  {
   "cell_type": "code",
   "execution_count": 19,
   "metadata": {
    "_uuid": "efd522df70b51cde884d7640131b3dbcabb6fadc"
   },
   "outputs": [
    {
     "name": "stdout",
     "output_type": "stream",
     "text": [
      "Object `TfidVectorizer` not found.\n"
     ]
    }
   ],
   "source": [
    "??TfidVectorizer"
   ]
  },
  {
   "cell_type": "code",
   "execution_count": 20,
   "metadata": {
    "_uuid": "9a88f397420f399b3e6fbc7afa74cdbe3aedd196"
   },
   "outputs": [],
   "source": [
    "tfidf_vectorizer = TfidfVectorizer(min_df=5, max_df=0.9, ngram_range=(1, 2),token_pattern='(\\S+)')\n",
    "X_train_tfidf = tfidf_vectorizer.fit_transform(X_train)\n",
    "X_val_tfidf = tfidf_vectorizer.transform(X_val)\n",
    "X_test_tfidf = tfidf_vectorizer.transform(X_test)\n",
    "tfidf_vocab = tfidf_vectorizer.vocabulary_\n",
    "# X_train_tfidf, X_val_tfidf, X_test_tfidf, tfidf_vocab = tfidf_features(X_train, X_val, X_test)\n",
    "tfidf_reversed_vocab = {i:word for word,i in tfidf_vocab.items()}"
   ]
  },
  {
   "cell_type": "code",
   "execution_count": 21,
   "metadata": {
    "_uuid": "831b4308bc8ffd086f9f25d68143f8b25b40f2b0"
   },
   "outputs": [
    {
     "data": {
      "text/plain": [
       "1976"
      ]
     },
     "execution_count": 21,
     "metadata": {},
     "output_type": "execute_result"
    }
   ],
   "source": [
    "tfidf_vocab['c++']"
   ]
  },
  {
   "cell_type": "code",
   "execution_count": 22,
   "metadata": {
    "_uuid": "1572b9747b1c4b3ecc92b0e389886c255443ddc4"
   },
   "outputs": [],
   "source": [
    "from sklearn.preprocessing import MultiLabelBinarizer"
   ]
  },
  {
   "cell_type": "code",
   "execution_count": 23,
   "metadata": {
    "_uuid": "883b54957e5154072f0b8e59af2a6f2a605100b6"
   },
   "outputs": [],
   "source": [
    "mlb = MultiLabelBinarizer(classes=sorted(tags_counts.keys()))\n",
    "y_train = mlb.fit_transform(y_train)\n",
    "y_val = mlb.fit_transform(y_val)"
   ]
  },
  {
   "cell_type": "code",
   "execution_count": 24,
   "metadata": {
    "_uuid": "ad082a14ca42fe901094549641f0145ac7e614e4"
   },
   "outputs": [
    {
     "data": {
      "text/plain": [
       "array([0, 0, 0, 0, 0, 0, 0, 0, 0, 0, 0, 0, 0, 0, 0, 0, 0, 0, 0, 0, 0, 0,\n",
       "       0, 0, 0, 0, 0, 0, 0, 0, 0, 0, 0, 0, 0, 0, 0, 0, 0, 0, 0, 0, 0, 0,\n",
       "       0, 0, 0, 0, 0, 0, 0, 0, 0, 0, 0, 0, 0, 0, 0, 0, 0, 0, 0, 0, 0, 0,\n",
       "       1, 0, 0, 0, 0, 0, 0, 0, 0, 0, 0, 0, 0, 0, 0, 0, 0, 0, 0, 0, 0, 0,\n",
       "       0, 0, 0, 0, 0, 0, 0, 0, 0, 0, 0, 0])"
      ]
     },
     "execution_count": 24,
     "metadata": {},
     "output_type": "execute_result"
    }
   ],
   "source": [
    "y_train[0]"
   ]
  },
  {
   "cell_type": "markdown",
   "metadata": {
    "_uuid": "0e82de6ba1acfb9f3e5c1b170778e084bd0c3f56"
   },
   "source": [
    "Train the classifiers for different data transformations: *bag-of-words* and *tf-idf*."
   ]
  },
  {
   "cell_type": "code",
   "execution_count": 25,
   "metadata": {
    "_uuid": "da51fd4837e79c96214d3e704749ec52ea26265c"
   },
   "outputs": [
    {
     "name": "stdout",
     "output_type": "stream",
     "text": [
      "Wall time: 59.3 s\n"
     ]
    }
   ],
   "source": [
    "%%time\n",
    "from sklearn.multiclass import OneVsRestClassifier\n",
    "from sklearn.linear_model import LogisticRegression, RidgeClassifier\n",
    "clf = OneVsRestClassifier(RidgeClassifier(normalize=True))\n",
    "clf.fit(X_train_tfidf, y_train)\n",
    "# classifier_tfidf = train_classifier(X_train_tfidf, y_train)"
   ]
  },
  {
   "cell_type": "markdown",
   "metadata": {
    "_uuid": "294bf367ca93a0afd8c85d4169c3f871e2fe6e3b"
   },
   "source": [
    "Now you can create predictions for the data. You will need two types of predictions: labels and scores."
   ]
  },
  {
   "cell_type": "code",
   "execution_count": 26,
   "metadata": {
    "_uuid": "b06fddc6e21bb9cdedc31c67b990ced1d804151b"
   },
   "outputs": [
    {
     "name": "stdout",
     "output_type": "stream",
     "text": [
      "Wall time: 80.8 ms\n"
     ]
    }
   ],
   "source": [
    "%%time\n",
    "y_val_predicted_labels_tfidf = clf.predict(X_val_tfidf)\n",
    "# y_val_predicted_scores_tfidf = classifier_tfidf.decision_function(X_val_tfidf)"
   ]
  },
  {
   "cell_type": "markdown",
   "metadata": {
    "_uuid": "be149cae5b6dd54ca752f27ba075ee11198cdd7f"
   },
   "source": [
    "Now take a look at how classifier, which uses TF-IDF, works for a few examples:"
   ]
  },
  {
   "cell_type": "code",
   "execution_count": 27,
   "metadata": {
    "_uuid": "a03c639ec8f26ea6c0b925d52a7f39913c8dc4b1"
   },
   "outputs": [
    {
     "name": "stdout",
     "output_type": "stream",
     "text": [
      "[(), ('java', 'jsp', 'servlets'), ('java', 'swing'), ('ajax', 'java', 'javascript', 'jquery', 'php', 'servlets')]\n"
     ]
    }
   ],
   "source": [
    "que = ['','How to avoid Java code in JSP files? I am new to Java EE and I know that something like the following three lines','Providing white space in a Swing GUI', 'How to use Servlets and Ajax?']\n",
    "que = [text_prepare(i) for i in que]\n",
    "# que = [que]\n",
    "que = tfidf_vectorizer.transform(que)\n",
    "yp = clf.predict(que)\n",
    "print(mlb.inverse_transform(yp))"
   ]
  },
  {
   "cell_type": "code",
   "execution_count": 28,
   "metadata": {
    "_uuid": "aeb425243ed23547f0a0cf5fa674edf04a9b7ba5"
   },
   "outputs": [],
   "source": [
    "import pickle\n",
    "import os \n",
    "pickle.dump(clf, open('model.pkl', 'wb'))\n",
    "pickle.dump(mlb, open('tags.pkl', 'wb'))\n",
    "pickle.dump(tfidf_vectorizer, open('tf.pkl', 'wb'))"
   ]
  },
  {
   "cell_type": "code",
   "execution_count": null,
   "metadata": {
    "_uuid": "0b6c74e392f92508b53c4b2b5c8ab3b7506d2e68"
   },
   "outputs": [],
   "source": []
  }
 ],
 "metadata": {
  "kernelspec": {
   "display_name": "Python 3",
   "language": "python",
   "name": "python3"
  },
  "language_info": {
   "codemirror_mode": {
    "name": "ipython",
    "version": 3
   },
   "file_extension": ".py",
   "mimetype": "text/x-python",
   "name": "python",
   "nbconvert_exporter": "python",
   "pygments_lexer": "ipython3",
   "version": "3.6.6"
  },
  "varInspector": {
   "cols": {
    "lenName": 16,
    "lenType": 16,
    "lenVar": 40
   },
   "kernels_config": {
    "python": {
     "delete_cmd_postfix": "",
     "delete_cmd_prefix": "del ",
     "library": "var_list.py",
     "varRefreshCmd": "print(var_dic_list())"
    },
    "r": {
     "delete_cmd_postfix": ") ",
     "delete_cmd_prefix": "rm(",
     "library": "var_list.r",
     "varRefreshCmd": "cat(var_dic_list()) "
    }
   },
   "types_to_exclude": [
    "module",
    "function",
    "builtin_function_or_method",
    "instance",
    "_Feature"
   ],
   "window_display": false
  }
 },
 "nbformat": 4,
 "nbformat_minor": 1
}
